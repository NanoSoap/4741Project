{
 "cells": [
  {
   "cell_type": "code",
   "execution_count": null,
   "metadata": {},
   "outputs": [],
   "source": [
    "using CSV, Plots, DataFrames, Statistics, DelimitedFiles, LinearAlgebra\n",
    "using Random, SparseArrays, ScikitLearn, LowRankModels\n",
    "include(\"proxgrad.jl\")"
   ]
  },
  {
   "cell_type": "code",
   "execution_count": null,
   "metadata": {},
   "outputs": [],
   "source": [
    "Random.seed!(13)"
   ]
  },
  {
   "cell_type": "code",
   "execution_count": null,
   "metadata": {},
   "outputs": [],
   "source": []
  },
  {
   "cell_type": "code",
   "execution_count": null,
   "metadata": {},
   "outputs": [],
   "source": [
    "df = CSV.read(\"USwines.csv\");\n",
    "df = df[2:end];"
   ]
  },
  {
   "cell_type": "code",
   "execution_count": null,
   "metadata": {},
   "outputs": [],
   "source": [
    "feature_names = names(df)"
   ]
  },
  {
   "cell_type": "code",
   "execution_count": null,
   "metadata": {},
   "outputs": [],
   "source": [
    "size(df)"
   ]
  },
  {
   "cell_type": "code",
   "execution_count": null,
   "metadata": {},
   "outputs": [],
   "source": []
  },
  {
   "cell_type": "markdown",
   "metadata": {},
   "source": [
    "## Train Test Split"
   ]
  },
  {
   "cell_type": "code",
   "execution_count": null,
   "metadata": {},
   "outputs": [],
   "source": [
    "df = df[.!(ismissing.(df[!, :price])), :]; # let's only consider the examples for which the price is known\n",
    "df = df[shuffle(1:end), :] # we shuffle the data so that our train/test split will be truly random\n",
    "\n",
    "train_proportion = 0.8\n",
    "n = size(df, 1)\n",
    "println(\"Size of dataset: \", string(n))\n",
    "# The first t examples will form our training set; the rest will be our test set\n",
    "t = convert(Int, round(train_proportion*n))\n",
    "\n",
    "target = df[:, :price]\n",
    "data = df[:, filter(col -> (col != :price), feature_names)]\n",
    "\n",
    "train_x = data[1:t, :]\n",
    "test_x = data[t:end, :]\n",
    "train_y = target[1:t, :]\n",
    "test_y = target[t:end, :]"
   ]
  },
  {
   "cell_type": "code",
   "execution_count": null,
   "metadata": {},
   "outputs": [],
   "source": [
    "# This function just computes the mean squared error.\n",
    "function MSE(y, pred)\n",
    "    sum((y - pred).^2)/size(y, 1)\n",
    "end\n",
    "\n",
    "\"\"\"This function plots the main diagonal; \n",
    "for a \"predicted vs true\" plot with perfect predictions,\n",
    "all data lies on this line\"\"\"\n",
    "function plotDiagonal(xmin, xmax)\n",
    "    xsamples = [xmin, xmax]\n",
    "    plot!(xsamples, xsamples, color=:black)\n",
    "end\n",
    "\n",
    "\"\"\"This helper funciton plots x vs, y and labels the axes.\"\"\"\n",
    "function plotdata(x,y,xname, yname; margin=.05, plotDiag=true, zeromin=false)\n",
    "    scatter(x,y, label=\"data\")\n",
    "    xlabel!(xname)\n",
    "    ylabel!(yname)\n",
    "    range_y = maximum(y) - minimum(y)\n",
    "    range_x = maximum(x) - minimum(x)\n",
    "    if plotDiag\n",
    "        plotDiagonal(minimum(x)-margin*range_x, maximum(x)+margin*range_x)\n",
    "    end\n",
    "    if zeromin\n",
    "        ylims!((0.0,maximum(y)+margin*range_y))\n",
    "        xlims!((0.0,maximum(x)+margin*range_x))\n",
    "    else\n",
    "        ylims!((minimum(y)-margin*range_y,maximum(y)+margin*range_y))\n",
    "        xlims!((minimum(x)-margin*range_x,maximum(x)+margin*range_x))\n",
    "    end\n",
    "end\n",
    "\n",
    "\n",
    "\"\"\"This function plots the predicted labels vs the actual labels\n",
    "(We only plots the first 1000 points to avoid slow plots.)\"\"\"\n",
    "function plot_pred_true(test_pred, test_y, max_points = 1000)\n",
    "    plotdata(test_pred[1:max_points], test_y[1:max_points], \"Predicted (\\$)\", \"True (\\$)\", zeromin=true)\n",
    "end"
   ]
  },
  {
   "cell_type": "code",
   "execution_count": null,
   "metadata": {},
   "outputs": [],
   "source": []
  },
  {
   "cell_type": "code",
   "execution_count": null,
   "metadata": {},
   "outputs": [],
   "source": [
    "train_x = convert(Matrix, train_x); \n",
    "test_x = convert(Matrix, test_x); \n",
    "\n",
    "train_y = convert(Matrix, train_y);\n",
    "test_y = convert(Matrix, test_y);"
   ]
  },
  {
   "cell_type": "code",
   "execution_count": null,
   "metadata": {},
   "outputs": [],
   "source": []
  },
  {
   "cell_type": "markdown",
   "metadata": {},
   "source": [
    "## linear"
   ]
  },
  {
   "cell_type": "code",
   "execution_count": null,
   "metadata": {},
   "outputs": [],
   "source": [
    "train_x_1 = [ones(size(train_x)[1]) train_x];\n",
    "test_x_1 = [ones(size(test_x)[1]) test_x];"
   ]
  },
  {
   "cell_type": "code",
   "execution_count": null,
   "metadata": {},
   "outputs": [],
   "source": [
    "w_lin = train_x_1 \\ train_y;"
   ]
  },
  {
   "cell_type": "code",
   "execution_count": null,
   "metadata": {},
   "outputs": [],
   "source": [
    "train_pred = train_x_1 * w_lin; \n",
    "test_pred = test_x_1 * w_lin;\n",
    "train_MSE = MSE(train_y, train_pred); \n",
    "test_MSE = MSE(test_y, test_pred);\n",
    "println(\"Train MSE\\t\", train_MSE) \n",
    "println(\"Test MSE \\t\", test_MSE)"
   ]
  },
  {
   "cell_type": "code",
   "execution_count": null,
   "metadata": {},
   "outputs": [],
   "source": []
  },
  {
   "cell_type": "markdown",
   "metadata": {},
   "source": [
    "## ridge"
   ]
  },
  {
   "cell_type": "code",
   "execution_count": null,
   "metadata": {},
   "outputs": [],
   "source": [
    "w_ridge = (train_x'*train_x + I) \\ (train_x'*train_y)"
   ]
  },
  {
   "cell_type": "code",
   "execution_count": null,
   "metadata": {},
   "outputs": [],
   "source": [
    "train_pred_ridge = train_x * w_ridge; \n",
    "test_pred_ridge = test_x * w_ridge;\n",
    "train_MSE_ridge = MSE(train_y, train_pred_ridge); \n",
    "test_MSE_ridge = MSE(test_y, test_pred_ridge);\n",
    "println(\"Train MSE\\t\", train_MSE) \n",
    "println(\"Test MSE \\t\", test_MSE)"
   ]
  },
  {
   "cell_type": "code",
   "execution_count": null,
   "metadata": {},
   "outputs": [],
   "source": []
  },
  {
   "cell_type": "code",
   "execution_count": null,
   "metadata": {},
   "outputs": [],
   "source": []
  },
  {
   "cell_type": "markdown",
   "metadata": {},
   "source": [
    "## Text, PCA"
   ]
  },
  {
   "cell_type": "code",
   "execution_count": null,
   "metadata": {},
   "outputs": [],
   "source": [
    "df_tf = CSV.read(\"message_embeddings.csv\")"
   ]
  },
  {
   "cell_type": "code",
   "execution_count": null,
   "metadata": {},
   "outputs": [],
   "source": [
    "train_all = join(train_x, df_tf, on=:id, kind=:left);\n",
    "test_all = join(test_x, df_tf, on=:id, kind=:left);"
   ]
  },
  {
   "cell_type": "code",
   "execution_count": null,
   "metadata": {},
   "outputs": [],
   "source": [
    "print(size(train_x))\n",
    "train_embed = convert(Matrix, train_all[:, 94:end]);\n",
    "test_embed = convert(Matrix, test_all[:, 94:end]);"
   ]
  },
  {
   "cell_type": "markdown",
   "metadata": {},
   "source": [
    "## Training on all features, linear model"
   ]
  },
  {
   "cell_type": "code",
   "execution_count": null,
   "metadata": {},
   "outputs": [],
   "source": [
    "train_embed_only = hcat(train_embed, ones(size(train_embed, 1)))\n",
    "test_embed_only = hcat(test_embed, ones(size(test_embed, 1)))\n",
    "\n",
    "@time begin\n",
    "w_em = train_embed_only\\train_y\n",
    "end\n",
    "    \n",
    "train_pred = train_embed_only*w_em\n",
    "test_pred = test_embed_only*w_em\n",
    "\n",
    "train_MSE = MSE(train_y, train_pred)\n",
    "test_MSE = MSE(test_y, test_pred)\n",
    "\n",
    "println(\"Train MSE\\t\", string(train_MSE))\n",
    "println(\"Test MSE \\t\", string(test_MSE))"
   ]
  },
  {
   "cell_type": "code",
   "execution_count": null,
   "metadata": {},
   "outputs": [],
   "source": [
    "size(train_embed_only)"
   ]
  },
  {
   "cell_type": "code",
   "execution_count": null,
   "metadata": {},
   "outputs": [],
   "source": []
  },
  {
   "cell_type": "markdown",
   "metadata": {},
   "source": [
    "## PCA for text dimensionality reduction"
   ]
  },
  {
   "cell_type": "code",
   "execution_count": null,
   "metadata": {},
   "outputs": [],
   "source": [
    "U, S, V = svd(train_embed_only);"
   ]
  },
  {
   "cell_type": "markdown",
   "metadata": {},
   "source": [
    "Plot decay of singular values"
   ]
  },
  {
   "cell_type": "code",
   "execution_count": null,
   "metadata": {},
   "outputs": [],
   "source": [
    "k_to_plot = 50\n",
    "\n",
    "scatter(1:k_to_plot, S[1:k_to_plot], label=\"singular values\")\n",
    "xlabel!(\"singular value index\")\n",
    "ylabel!(\"singular values\")"
   ]
  },
  {
   "cell_type": "markdown",
   "metadata": {},
   "source": [
    "Plot explained variance (the sum of first several singular values over the sum of all singular values):"
   ]
  },
  {
   "cell_type": "code",
   "execution_count": null,
   "metadata": {},
   "outputs": [],
   "source": [
    "k_to_plot = 400\n",
    "\n",
    "scatter(1:k_to_plot, [sum(S[1:i]) / sum(S) for i=1:k_to_plot])\n",
    "xlabel!(\"singular value index\")\n",
    "ylabel!(\"explained variance\")"
   ]
  },
  {
   "cell_type": "markdown",
   "metadata": {},
   "source": [
    "We loop over rank k from 10 to 100 and take a look at how training and test errors change. The following block may take a really long time, thus you may run the code in two blocks after the following block to quickly load results from previous executions."
   ]
  },
  {
   "cell_type": "code",
   "execution_count": null,
   "metadata": {},
   "outputs": [],
   "source": [
    "train_MSE_pca_all = []\n",
    "test_MSE_pca_all = []\n",
    "\n",
    "println(\"Train MSE of full dataset \\t\", string(train_MSE))\n",
    "println(\"Test MSE of full dataset \\t\", string(test_MSE))\n",
    "\n",
    "for k in 10:10:200\n",
    "    println(k)\n",
    "    \n",
    "    Uk = U[:, 1:k];\n",
    "    Sk = S[1:k];\n",
    "    Vk = V[:, 1:k];\n",
    "    \n",
    "    train_embed_pca =  train_embed_only * Vk\n",
    "    test_embed_pca = test_embed_only * Vk\n",
    "\n",
    "    w_em_pca = train_embed_pca \\ train_y\n",
    "\n",
    "    train_pread_pca = train_embed_pca * w_em_pca\n",
    "    test_pred_pca = test_embed_pca * w_em_pca\n",
    "\n",
    "    train_MSE_pca = MSE(train_y, train_pred_pca)\n",
    "    test_MSE_pca = MSE(test_y, test_pred_pca)\n",
    "\n",
    "    println(\"Train MSE\\t\", string(train_MSE_pca))\n",
    "    println(\"Test MSE \\t\", string(test_MSE_pca))\n",
    "    \n",
    "    append!(train_MSE_pca_all, train_MSE_pca)\n",
    "    append!(test_MSE_pca_all, test_MSE_pca)    \n",
    "    \n",
    "end"
   ]
  },
  {
   "cell_type": "markdown",
   "metadata": {},
   "source": [
    "save results"
   ]
  },
  {
   "cell_type": "code",
   "execution_count": null,
   "metadata": {},
   "outputs": [],
   "source": [
    "writedlm(\"train_MSE_pca_all.txt\", train_MSE_pca_all)\n",
    "writedlm(\"test_MSE_pca_all.txt\", test_MSE_pca_all)"
   ]
  },
  {
   "cell_type": "markdown",
   "metadata": {},
   "source": [
    "Read previously saved results from local:"
   ]
  },
  {
   "cell_type": "code",
   "execution_count": null,
   "metadata": {},
   "outputs": [],
   "source": [
    "train_MSE_pca_all = readdlm(\"train_MSE_pca_all.txt\");\n",
    "test_MSE_pca_all = readdlm(\"test_MSE_pca_all.txt\");"
   ]
  },
  {
   "cell_type": "markdown",
   "metadata": {},
   "source": [
    "Plot the training and test errors of fitting the linear regression model on both the entire dataset and the dimensionality reduced dataset:"
   ]
  },
  {
   "cell_type": "code",
   "execution_count": null,
   "metadata": {},
   "outputs": [],
   "source": [
    "a = scatter(10:10:200, train_MSE_pca_all, label=\"training MSE\")\n",
    "b = scatter!(a, 10:10:200, test_MSE_pca_all, label=\"test MSE\")\n",
    "c = plot!(b, 10:200, [train_MSE for i=10:200], label=\"original training MSE\")\n",
    "d = plot!(c, 10:200, [test_MSE for i=10:200], label=\"original test MSE\")\n",
    "xlabel!(\"rank\")\n",
    "ylabel!(\"MSE\")\n",
    "title!(\"total number of features: 4689\")"
   ]
  },
  {
   "cell_type": "markdown",
   "metadata": {},
   "source": [
    "Note that this embedding provides a lot of information, but we are massively overfitting. This is to be expected: after all we have 4689 4689 parameters to fit, but only 20000 20000 training points. This makes PCA helpful for addressing overfitting."
   ]
  },
  {
   "cell_type": "code",
   "execution_count": null,
   "metadata": {},
   "outputs": [],
   "source": []
  },
  {
   "cell_type": "code",
   "execution_count": null,
   "metadata": {},
   "outputs": [],
   "source": []
  },
  {
   "cell_type": "code",
   "execution_count": null,
   "metadata": {},
   "outputs": [],
   "source": []
  }
 ],
 "metadata": {
  "kernelspec": {
   "display_name": "Julia 1.2.0",
   "language": "julia",
   "name": "julia-1.2"
  },
  "language_info": {
   "file_extension": ".jl",
   "mimetype": "application/julia",
   "name": "julia",
   "version": "1.2.0"
  }
 },
 "nbformat": 4,
 "nbformat_minor": 2
}
