{
 "cells": [
  {
   "cell_type": "code",
   "execution_count": 886,
   "metadata": {},
   "outputs": [],
   "source": [
    "import pandas as pd\n",
    "import numpy as np\n",
    "import matplotlib.pyplot as plt\n",
    "from sklearn.utils import shuffle\n",
    "import random\n",
    "import seaborn as sns\n",
    "from sklearn.feature_extraction import FeatureHasher\n",
    "from sklearn.linear_model import LogisticRegression\n",
    "from sklearn import datasets\n",
    "from sklearn.preprocessing import StandardScaler\n",
    "from sklearn.model_selection import train_test_split\n",
    "\n"
   ]
  },
  {
   "cell_type": "code",
   "execution_count": 897,
   "metadata": {},
   "outputs": [],
   "source": [
    "from catboost import Pool, CatBoostRegressor, cv"
   ]
  },
  {
   "cell_type": "code",
   "execution_count": 285,
   "metadata": {},
   "outputs": [],
   "source": [
    "df = pd.read_csv('Wine.csv')\n",
    "df.drop([\"taster_twitter_handle\", \"description\", \"title\"],axis = 1, inplace = True)\n",
    "df.dropna(subset = ['price'], inplace =True)\n",
    "#df = df[df['price'] < 150]\n"
   ]
  },
  {
   "cell_type": "code",
   "execution_count": 890,
   "metadata": {},
   "outputs": [
    {
     "data": {
      "text/html": [
       "<div>\n",
       "<style scoped>\n",
       "    .dataframe tbody tr th:only-of-type {\n",
       "        vertical-align: middle;\n",
       "    }\n",
       "\n",
       "    .dataframe tbody tr th {\n",
       "        vertical-align: top;\n",
       "    }\n",
       "\n",
       "    .dataframe thead th {\n",
       "        text-align: right;\n",
       "    }\n",
       "</style>\n",
       "<table border=\"1\" class=\"dataframe\">\n",
       "  <thead>\n",
       "    <tr style=\"text-align: right;\">\n",
       "      <th></th>\n",
       "      <th>Unnamed: 0</th>\n",
       "      <th>country</th>\n",
       "      <th>designation</th>\n",
       "      <th>points</th>\n",
       "      <th>price</th>\n",
       "      <th>province</th>\n",
       "      <th>region_1</th>\n",
       "      <th>region_2</th>\n",
       "      <th>taster_name</th>\n",
       "      <th>variety</th>\n",
       "      <th>winery</th>\n",
       "    </tr>\n",
       "  </thead>\n",
       "  <tbody>\n",
       "    <tr>\n",
       "      <td>1</td>\n",
       "      <td>1</td>\n",
       "      <td>Portugal</td>\n",
       "      <td>Avidagos</td>\n",
       "      <td>87</td>\n",
       "      <td>15.0</td>\n",
       "      <td>Douro</td>\n",
       "      <td>0</td>\n",
       "      <td>0</td>\n",
       "      <td>Roger Voss</td>\n",
       "      <td>Portuguese Red</td>\n",
       "      <td>Quinta dos Avidagos</td>\n",
       "    </tr>\n",
       "    <tr>\n",
       "      <td>2</td>\n",
       "      <td>2</td>\n",
       "      <td>US</td>\n",
       "      <td>0</td>\n",
       "      <td>87</td>\n",
       "      <td>14.0</td>\n",
       "      <td>Oregon</td>\n",
       "      <td>Willamette Valley</td>\n",
       "      <td>Willamette Valley</td>\n",
       "      <td>Paul Gregutt</td>\n",
       "      <td>Pinot Gris</td>\n",
       "      <td>Rainstorm</td>\n",
       "    </tr>\n",
       "    <tr>\n",
       "      <td>3</td>\n",
       "      <td>3</td>\n",
       "      <td>US</td>\n",
       "      <td>Reserve Late Harvest</td>\n",
       "      <td>87</td>\n",
       "      <td>13.0</td>\n",
       "      <td>Michigan</td>\n",
       "      <td>Lake Michigan Shore</td>\n",
       "      <td>0</td>\n",
       "      <td>Alexander Peartree</td>\n",
       "      <td>Riesling</td>\n",
       "      <td>St. Julian</td>\n",
       "    </tr>\n",
       "    <tr>\n",
       "      <td>4</td>\n",
       "      <td>4</td>\n",
       "      <td>US</td>\n",
       "      <td>Vintner's Reserve Wild Child Block</td>\n",
       "      <td>87</td>\n",
       "      <td>65.0</td>\n",
       "      <td>Oregon</td>\n",
       "      <td>Willamette Valley</td>\n",
       "      <td>Willamette Valley</td>\n",
       "      <td>Paul Gregutt</td>\n",
       "      <td>Pinot Noir</td>\n",
       "      <td>Sweet Cheeks</td>\n",
       "    </tr>\n",
       "    <tr>\n",
       "      <td>5</td>\n",
       "      <td>5</td>\n",
       "      <td>Spain</td>\n",
       "      <td>Ars In Vitro</td>\n",
       "      <td>87</td>\n",
       "      <td>15.0</td>\n",
       "      <td>Northern Spain</td>\n",
       "      <td>Navarra</td>\n",
       "      <td>0</td>\n",
       "      <td>Michael Schachner</td>\n",
       "      <td>Tempranillo-Merlot</td>\n",
       "      <td>Tandem</td>\n",
       "    </tr>\n",
       "    <tr>\n",
       "      <td>...</td>\n",
       "      <td>...</td>\n",
       "      <td>...</td>\n",
       "      <td>...</td>\n",
       "      <td>...</td>\n",
       "      <td>...</td>\n",
       "      <td>...</td>\n",
       "      <td>...</td>\n",
       "      <td>...</td>\n",
       "      <td>...</td>\n",
       "      <td>...</td>\n",
       "      <td>...</td>\n",
       "    </tr>\n",
       "    <tr>\n",
       "      <td>129966</td>\n",
       "      <td>129966</td>\n",
       "      <td>Germany</td>\n",
       "      <td>Brauneberger Juffer-Sonnenuhr Spätlese</td>\n",
       "      <td>90</td>\n",
       "      <td>28.0</td>\n",
       "      <td>Mosel</td>\n",
       "      <td>0</td>\n",
       "      <td>0</td>\n",
       "      <td>Anna Lee C. Iijima</td>\n",
       "      <td>Riesling</td>\n",
       "      <td>Dr. H. Thanisch (Erben Müller-Burggraef)</td>\n",
       "    </tr>\n",
       "    <tr>\n",
       "      <td>129967</td>\n",
       "      <td>129967</td>\n",
       "      <td>US</td>\n",
       "      <td>0</td>\n",
       "      <td>90</td>\n",
       "      <td>75.0</td>\n",
       "      <td>Oregon</td>\n",
       "      <td>Oregon</td>\n",
       "      <td>Oregon Other</td>\n",
       "      <td>Paul Gregutt</td>\n",
       "      <td>Pinot Noir</td>\n",
       "      <td>Citation</td>\n",
       "    </tr>\n",
       "    <tr>\n",
       "      <td>129968</td>\n",
       "      <td>129968</td>\n",
       "      <td>France</td>\n",
       "      <td>Kritt</td>\n",
       "      <td>90</td>\n",
       "      <td>30.0</td>\n",
       "      <td>Alsace</td>\n",
       "      <td>Alsace</td>\n",
       "      <td>0</td>\n",
       "      <td>Roger Voss</td>\n",
       "      <td>Gewürztraminer</td>\n",
       "      <td>Domaine Gresser</td>\n",
       "    </tr>\n",
       "    <tr>\n",
       "      <td>129969</td>\n",
       "      <td>129969</td>\n",
       "      <td>France</td>\n",
       "      <td>0</td>\n",
       "      <td>90</td>\n",
       "      <td>32.0</td>\n",
       "      <td>Alsace</td>\n",
       "      <td>Alsace</td>\n",
       "      <td>0</td>\n",
       "      <td>Roger Voss</td>\n",
       "      <td>Pinot Gris</td>\n",
       "      <td>Domaine Marcel Deiss</td>\n",
       "    </tr>\n",
       "    <tr>\n",
       "      <td>129970</td>\n",
       "      <td>129970</td>\n",
       "      <td>France</td>\n",
       "      <td>Lieu-dit Harth Cuvée Caroline</td>\n",
       "      <td>90</td>\n",
       "      <td>21.0</td>\n",
       "      <td>Alsace</td>\n",
       "      <td>Alsace</td>\n",
       "      <td>0</td>\n",
       "      <td>Roger Voss</td>\n",
       "      <td>Gewürztraminer</td>\n",
       "      <td>Domaine Schoffit</td>\n",
       "    </tr>\n",
       "  </tbody>\n",
       "</table>\n",
       "<p>120916 rows × 11 columns</p>\n",
       "</div>"
      ],
      "text/plain": [
       "        Unnamed: 0   country                             designation  points  \\\n",
       "1                1  Portugal                                Avidagos      87   \n",
       "2                2        US                                       0      87   \n",
       "3                3        US                    Reserve Late Harvest      87   \n",
       "4                4        US      Vintner's Reserve Wild Child Block      87   \n",
       "5                5     Spain                            Ars In Vitro      87   \n",
       "...            ...       ...                                     ...     ...   \n",
       "129966      129966   Germany  Brauneberger Juffer-Sonnenuhr Spätlese      90   \n",
       "129967      129967        US                                       0      90   \n",
       "129968      129968    France                                   Kritt      90   \n",
       "129969      129969    France                                       0      90   \n",
       "129970      129970    France           Lieu-dit Harth Cuvée Caroline      90   \n",
       "\n",
       "        price        province             region_1           region_2  \\\n",
       "1        15.0           Douro                    0                  0   \n",
       "2        14.0          Oregon    Willamette Valley  Willamette Valley   \n",
       "3        13.0        Michigan  Lake Michigan Shore                  0   \n",
       "4        65.0          Oregon    Willamette Valley  Willamette Valley   \n",
       "5        15.0  Northern Spain              Navarra                  0   \n",
       "...       ...             ...                  ...                ...   \n",
       "129966   28.0           Mosel                    0                  0   \n",
       "129967   75.0          Oregon               Oregon       Oregon Other   \n",
       "129968   30.0          Alsace               Alsace                  0   \n",
       "129969   32.0          Alsace               Alsace                  0   \n",
       "129970   21.0          Alsace               Alsace                  0   \n",
       "\n",
       "               taster_name             variety  \\\n",
       "1               Roger Voss      Portuguese Red   \n",
       "2             Paul Gregutt          Pinot Gris   \n",
       "3       Alexander Peartree            Riesling   \n",
       "4             Paul Gregutt          Pinot Noir   \n",
       "5        Michael Schachner  Tempranillo-Merlot   \n",
       "...                    ...                 ...   \n",
       "129966  Anna Lee C. Iijima            Riesling   \n",
       "129967        Paul Gregutt          Pinot Noir   \n",
       "129968          Roger Voss      Gewürztraminer   \n",
       "129969          Roger Voss          Pinot Gris   \n",
       "129970          Roger Voss      Gewürztraminer   \n",
       "\n",
       "                                          winery  \n",
       "1                            Quinta dos Avidagos  \n",
       "2                                      Rainstorm  \n",
       "3                                     St. Julian  \n",
       "4                                   Sweet Cheeks  \n",
       "5                                         Tandem  \n",
       "...                                          ...  \n",
       "129966  Dr. H. Thanisch (Erben Müller-Burggraef)  \n",
       "129967                                  Citation  \n",
       "129968                           Domaine Gresser  \n",
       "129969                      Domaine Marcel Deiss  \n",
       "129970                          Domaine Schoffit  \n",
       "\n",
       "[120916 rows x 11 columns]"
      ]
     },
     "execution_count": 890,
     "metadata": {},
     "output_type": "execute_result"
    }
   ],
   "source": [
    "df"
   ]
  },
  {
   "cell_type": "code",
   "execution_count": 427,
   "metadata": {},
   "outputs": [
    {
     "data": {
      "text/plain": [
       "Index(['Unnamed: 0', 'country', 'designation', 'points', 'price', 'province',\n",
       "       'region_1', 'region_2', 'taster_name', 'variety', 'winery'],\n",
       "      dtype='object')"
      ]
     },
     "execution_count": 427,
     "metadata": {},
     "output_type": "execute_result"
    }
   ],
   "source": [
    "labels = df.columns\n",
    "labels"
   ]
  },
  {
   "cell_type": "code",
   "execution_count": 557,
   "metadata": {},
   "outputs": [],
   "source": [
    "df = df.dropna(subset = ['country'])"
   ]
  },
  {
   "cell_type": "code",
   "execution_count": 558,
   "metadata": {},
   "outputs": [
    {
     "name": "stdout",
     "output_type": "stream",
     "text": [
      "Unnamed: 0: 0  0.0%\n",
      "country: 0  0.0%\n",
      "designation: 34768  28.753845644910513%\n",
      "points: 0  0.0%\n",
      "price: 0  0.0%\n",
      "province: 0  0.0%\n",
      "region_1: 19516  16.140130338416753%\n",
      "region_2: 70624  58.40748949684078%\n",
      "taster_name: 24496  20.25869198451818%\n",
      "variety: 1  0.0008270204108637402%\n",
      "winery: 0  0.0%\n"
     ]
    }
   ],
   "source": [
    "n = len(df)\n",
    "for label in labels:\n",
    "  num = sum(df[label].isna())\n",
    "  print(label + ': ' + str(num) + '  ' +str(num/n*100) + '%'  )\n",
    "# We will delete all country missing items, since it only have 59 and in reality, \n",
    "# people will eventually know where the wine produced.\n"
   ]
  },
  {
   "cell_type": "code",
   "execution_count": 559,
   "metadata": {},
   "outputs": [
    {
     "name": "stdout",
     "output_type": "stream",
     "text": [
      "Unnamed: 0: 120916\n",
      "country: 42\n",
      "designation: 35754\n",
      "points: 21\n",
      "price: 390\n",
      "province: 422\n",
      "region_1: 1205\n",
      "region_2: 18\n",
      "taster_name: 20\n",
      "variety: 692\n",
      "winery: 15843\n"
     ]
    }
   ],
   "source": [
    "for label in labels:\n",
    "  num_unique = len(np.unique(list(df[label])))\n",
    "  num_total = len(df.dropna(subset = [label]))\n",
    "  print(label + ': ' + str(num_unique))"
   ]
  },
  {
   "cell_type": "code",
   "execution_count": 287,
   "metadata": {},
   "outputs": [
    {
     "data": {
      "image/png": "[encoded data removed]",
      "text/plain": [
       "<Figure size 576x432 with 1 Axes>"
      ]
     },
     "metadata": {
      "needs_background": "light"
     },
     "output_type": "display_data"
    }
   ],
   "source": [
    "fig, ax = plt.subplots(figsize = (8,6))\n",
    "ax.hist(df['points'],range=[80, 100])\n",
    "ax.set_title('Points of Wine')\n",
    "plt.show()"
   ]
  },
  {
   "cell_type": "code",
   "execution_count": 288,
   "metadata": {},
   "outputs": [
    {
     "data": {
      "image/png": "[encoded data removed]",
      "text/plain": [
       "<Figure size 432x288 with 1 Axes>"
      ]
     },
     "metadata": {
      "needs_background": "light"
     },
     "output_type": "display_data"
    }
   ],
   "source": [
    "ax = sns.distplot(df[\"price\"])"
   ]
  },
  {
   "cell_type": "code",
   "execution_count": 777,
   "metadata": {},
   "outputs": [
    {
     "data": {
      "text/plain": [
       "0.012157200039697003"
      ]
     },
     "execution_count": 777,
     "metadata": {},
     "output_type": "execute_result"
    }
   ],
   "source": [
    "# 1% of wine in our data greater han $150\n",
    "\n",
    "data = df[df['price']<150]\n",
    "1-data.size/df.size"
   ]
  },
  {
   "cell_type": "code",
   "execution_count": 561,
   "metadata": {},
   "outputs": [
    {
     "data": {
      "image/png": "[encoded data removed]",
      "text/plain": [
       "<Figure size 432x288 with 1 Axes>"
      ]
     },
     "metadata": {
      "needs_background": "light"
     },
     "output_type": "display_data"
    }
   ],
   "source": [
    "ax = sns.distplot(data[\"price\"])"
   ]
  },
  {
   "cell_type": "code",
   "execution_count": 562,
   "metadata": {},
   "outputs": [
    {
     "data": {
      "text/plain": [
       "array([[1.        , 0.41619727],\n",
       "       [0.41619727, 1.        ]])"
      ]
     },
     "execution_count": 562,
     "metadata": {},
     "output_type": "execute_result"
    }
   ],
   "source": [
    "np.corrcoef(df['price'], df['points'])"
   ]
  },
  {
   "cell_type": "markdown",
   "metadata": {},
   "source": [
    "Analyze the correlation of winery to province/region_1/region_2/variety/country"
   ]
  },
  {
   "cell_type": "code",
   "execution_count": 290,
   "metadata": {},
   "outputs": [],
   "source": [
    "# https://stackoverflow.com/questions/46498455/categorical-features-correlation/46498792#46498792\n",
    "\n",
    "import pandas as pd\n",
    "import numpy as np\n",
    "import scipy.stats as ss\n",
    "import seaborn as sns\n",
    "\n",
    "def cramers_v(confusion_matrix):\n",
    "    \"\"\" calculate Cramers V statistic for categorial-categorial association.\n",
    "        uses correction from Bergsma and Wicher,\n",
    "        Journal of the Korean Statistical Society 42 (2013): 323-328\n",
    "    \"\"\"\n",
    "    chi2 = ss.chi2_contingency(confusion_matrix)[0]\n",
    "    n = confusion_matrix.sum()\n",
    "    phi2 = chi2 / n\n",
    "    r, k = confusion_matrix.shape\n",
    "    phi2corr = max(0, phi2 - ((k-1)*(r-1))/(n-1))\n",
    "    rcorr = r - ((r-1)**2)/(n-1)\n",
    "    kcorr = k - ((k-1)**2)/(n-1)\n",
    "    return np.sqrt(phi2corr / min((kcorr-1), (rcorr-1)))\n"
   ]
  },
  {
   "cell_type": "code",
   "execution_count": 550,
   "metadata": {},
   "outputs": [
    {
     "name": "stdout",
     "output_type": "stream",
     "text": [
      "correlation of country = 1.0\n",
      "correlation of region_1 = 0.9938399480672263\n",
      "correlation of region_2 = nan\n",
      "correlation of province = 0.9984116896249929\n",
      "correlation of taster_name = 0.6064941814129171\n"
     ]
    },
    {
     "name": "stderr",
     "output_type": "stream",
     "text": [
      "C:\\YZC\\Conda\\lib\\site-packages\\ipykernel_launcher.py:20: RuntimeWarning: invalid value encountered in double_scalars\n"
     ]
    },
    {
     "name": "stdout",
     "output_type": "stream",
     "text": [
      "correlation of variety = 0.5023888316816095\n",
      "correlation of designation = 0.635795192386344\n",
      "correlation of winery = 0.9272439291503246\n"
     ]
    }
   ],
   "source": [
    "df_cor = ['country', 'region_1','region_2','province','taster_name','variety','designation', 'winery']\n",
    "for j in df_cor:\n",
    "    x = data['country']\n",
    "    y = data[j]\n",
    "    confusion_matrix = pd.crosstab(x, y).values\n",
    "    cor = cramers_v(confusion_matrix)\n",
    "    print(\"correlation of \" + j + \" = \"+str(cor))"
   ]
  },
  {
   "cell_type": "code",
   "execution_count": 132,
   "metadata": {},
   "outputs": [
    {
     "name": "stdout",
     "output_type": "stream",
     "text": [
      "correlation of country = 0.9272439291503246\n",
      "correlation of region_1 = 0.5997890217017628\n",
      "correlation of region_2 = 0.8225770302898886\n",
      "correlation of province = 0.7233989790886322\n",
      "correlation of taster_name = 0.7901444633112727\n",
      "correlation of variety = 0.3970457319913873\n",
      "correlation of designation = 0.5690081222002432\n",
      "correlation of winery = 1.0000000000000013\n"
     ]
    }
   ],
   "source": [
    "for j in df_cor:\n",
    "    x = data['winery']\n",
    "    y = data[j]\n",
    "    confusion_matrix = pd.crosstab(x, y).values\n",
    "    cor = cramers_v(confusion_matrix)\n",
    "    print(\"correlation of \" + j + \" = \"+str(cor))"
   ]
  },
  {
   "cell_type": "code",
   "execution_count": 133,
   "metadata": {},
   "outputs": [
    {
     "name": "stderr",
     "output_type": "stream",
     "text": [
      "C:\\YZC\\Conda\\lib\\site-packages\\ipykernel_launcher.py:20: RuntimeWarning: invalid value encountered in double_scalars\n"
     ]
    },
    {
     "name": "stdout",
     "output_type": "stream",
     "text": [
      "correlation of country = nan\n",
      "correlation of region_1 = 0.9980666782738485\n",
      "correlation of region_2 = 1.0\n",
      "correlation of province = 0.9998696761446675\n",
      "correlation of taster_name = 0.5757108659745721\n",
      "correlation of variety = 0.28024796218274156\n",
      "correlation of designation = 0.5959496514234616\n",
      "correlation of winery = 0.8225770302898887\n"
     ]
    }
   ],
   "source": [
    "for j in df_cor:\n",
    "    x = data['region_2']\n",
    "    y = data[j]\n",
    "    confusion_matrix = pd.crosstab(x, y).values\n",
    "    cor = cramers_v(confusion_matrix)\n",
    "    print(\"correlation of \" + j + \" = \"+str(cor))"
   ]
  },
  {
   "cell_type": "code",
   "execution_count": 551,
   "metadata": {},
   "outputs": [
    {
     "name": "stdout",
     "output_type": "stream",
     "text": [
      "correlation of country = 0.9938399480672263\n",
      "correlation of region_1 = 0.9999999999999999\n",
      "correlation of region_2 = 0.9980666782738487\n",
      "correlation of province = 0.9866014952305123\n",
      "correlation of taster_name = 0.8021403444821482\n",
      "correlation of variety = 0.40323101085246216\n",
      "correlation of designation = 0.5848652319119308\n",
      "correlation of winery = 0.5997890217017633\n"
     ]
    }
   ],
   "source": [
    "for j in df_cor:\n",
    "    x = data['region_1']\n",
    "    y = data[j]\n",
    "    confusion_matrix = pd.crosstab(x, y).values\n",
    "    cor = cramers_v(confusion_matrix)\n",
    "    print(\"correlation of \" + j + \" = \"+str(cor))"
   ]
  },
  {
   "cell_type": "code",
   "execution_count": 158,
   "metadata": {},
   "outputs": [
    {
     "name": "stderr",
     "output_type": "stream",
     "text": [
      "C:\\YZC\\Conda\\lib\\site-packages\\ipykernel_launcher.py:1: SettingWithCopyWarning: \n",
      "A value is trying to be set on a copy of a slice from a DataFrame.\n",
      "Try using .loc[row_indexer,col_indexer] = value instead\n",
      "\n",
      "See the caveats in the documentation: http://pandas.pydata.org/pandas-docs/stable/user_guide/indexing.html#returning-a-view-versus-a-copy\n",
      "  \"\"\"Entry point for launching an IPython kernel.\n"
     ]
    },
    {
     "name": "stdout",
     "output_type": "stream",
     "text": [
      "correlation of country = 0.07617962411493388\n",
      "correlation of region_1 = 0.12079117296248765\n",
      "correlation of region_2 = 0.1853055063610563\n",
      "correlation of province = 0.07832963479076233\n",
      "correlation of taster_name = 0.11758668361985224\n",
      "correlation of variety = 0.050874136341342316\n",
      "correlation of designation = 0.3669246093090189\n",
      "correlation of winery = 0.24499596977403826\n"
     ]
    }
   ],
   "source": [
    "data['price'] = data['price'].apply(str)\n",
    "for j in df_cor:\n",
    "    x = data['price']\n",
    "    y = data[j]\n",
    "    confusion_matrix = pd.crosstab(x, y).values\n",
    "    cor = cramers_v(confusion_matrix)\n",
    "    print(\"correlation of \" + j + \" = \"+str(cor))"
   ]
  },
  {
   "cell_type": "code",
   "execution_count": 292,
   "metadata": {},
   "outputs": [],
   "source": [
    "data = data.fillna('0')"
   ]
  },
  {
   "cell_type": "code",
   "execution_count": 171,
   "metadata": {},
   "outputs": [
    {
     "data": {
      "image/png": "[encoded data removed]",
      "text/plain": [
       "<Figure size 7200x3600 with 1 Axes>"
      ]
     },
     "metadata": {
      "needs_background": "light"
     },
     "output_type": "display_data"
    }
   ],
   "source": [
    "fig, ax = plt.subplots(figsize = (100,50))\n",
    "ax.hist(data['country'],bins = 50)\n",
    "ax.set_title('Price of Wine')\n",
    "plt.show()"
   ]
  },
  {
   "cell_type": "code",
   "execution_count": 262,
   "metadata": {},
   "outputs": [
    {
     "data": {
      "text/plain": [
       "array(['Jeff Jenssen', 'Anna Lee C. Iijima', 'Susan Kostrzewa'],\n",
       "      dtype=object)"
      ]
     },
     "execution_count": 262,
     "metadata": {},
     "output_type": "execute_result"
    }
   ],
   "source": [
    "data[data['country']=='Romania']['taster_name'].unique()"
   ]
  },
  {
   "cell_type": "code",
   "execution_count": 261,
   "metadata": {},
   "outputs": [
    {
     "data": {
      "text/plain": [
       "0.6979310963504548"
      ]
     },
     "execution_count": 261,
     "metadata": {},
     "output_type": "execute_result"
    }
   ],
   "source": [
    "#thinking taster name have correlation to countries since with expensie wine, they do.But the result is not obvious. \n",
    "country = ['Portugal','US','Spain','Italy','France','Germany','Argentina', 'Chile','Australia','Austria','New Zealand']\n",
    "data_tmp = data[~data['country'].isin(country)]\n",
    "x = data_tmp['country']\n",
    "y = data_tmp['taster_name']\n",
    "confusion_matrix = pd.crosstab(x, y).values\n",
    "cramers_v(confusion_matrix)\n"
   ]
  },
  {
   "cell_type": "markdown",
   "metadata": {},
   "source": [
    "Province Region_1 Country and Winery contains a lot of same info. We use hashing scheme to get different set of encoding and test which is better"
   ]
  },
  {
   "cell_type": "code",
   "execution_count": 322,
   "metadata": {},
   "outputs": [],
   "source": [
    "# https://towardsdatascience.com/understanding-feature-engineering-part-2-categorical-data-f54324193e63\n",
    "\n",
    "def hash_f(features,n ,data = data['country']):\n",
    "    fh = FeatureHasher(n_features=n, input_type='string')\n",
    "    hashed_features = fh.fit_transform(data)\n",
    "    hashed_features = hashed_features.toarray()\n",
    "    return hashed_features\n"
   ]
  },
  {
   "cell_type": "code",
   "execution_count": 301,
   "metadata": {},
   "outputs": [],
   "source": [
    "country_hash = hash_f('country')"
   ]
  },
  {
   "cell_type": "code",
   "execution_count": 302,
   "metadata": {},
   "outputs": [
    {
     "data": {
      "text/plain": [
       "array([[ 0.,  2.,  1., ...,  1., -1.,  1.],\n",
       "       [-1.,  0.,  0., ..., -1.,  0.,  1.],\n",
       "       [-1.,  0.,  0., ..., -1.,  0.,  1.],\n",
       "       ...,\n",
       "       [-1.,  2.,  0., ...,  0., -1.,  1.],\n",
       "       [-1.,  2.,  0., ...,  0., -1.,  1.],\n",
       "       [-1.,  2.,  0., ...,  0., -1.,  1.]])"
      ]
     },
     "execution_count": 302,
     "metadata": {},
     "output_type": "execute_result"
    }
   ],
   "source": [
    "Xtrain_rawpoints = np.vstack((country_hash.T,np.ones(len(country_hash)))).T\n",
    "Xtrain_rawpoints"
   ]
  },
  {
   "cell_type": "code",
   "execution_count": 303,
   "metadata": {},
   "outputs": [
    {
     "name": "stdout",
     "output_type": "stream",
     "text": [
      "Size of dataset:  119505\n"
     ]
    }
   ],
   "source": [
    "def MSE(y,pred):\n",
    "  a = ((y-pred)**2).sum()/len(y)\n",
    "  return a \n",
    "\n",
    "#split data training 80%  and testing 80%\n",
    "data = shuffle(data) \n",
    "train_proportion = 0.8\n",
    "n = len(data)\n",
    "print(\"Size of dataset: \", str(n))\n",
    "n_train = round(train_proportion*n)\n",
    "target = data['price']\n",
    "data = data.drop(['price'],axis=1)\n",
    "\n",
    "# the following variable records the features of examples in the training set\n",
    "train_x = data.iloc[range(0,n_train),:]\n",
    "# the following variable records the features of examples in the test set\n",
    "test_x = data.iloc[range(n_train,n),:]\n",
    "# the following variable records the labels of examples in the training set\n",
    "train_y = target.iloc[range(0,n_train)]\n",
    "# the following variable records the labels of examples in the test set\n",
    "test_y = target.iloc[range(n_train,n)]\n",
    "\n",
    "\n"
   ]
  },
  {
   "cell_type": "code",
   "execution_count": 340,
   "metadata": {},
   "outputs": [],
   "source": [
    "def select(features,n):\n",
    "    train_vals_country = hash_f(features,n,train_x.loc[:,features])\n",
    "    test_vals_country = hash_f(features,n,test_x.loc[:,features])\n",
    "    Xtrain_rawpoints = np.vstack((train_vals_country.T,np.ones(len(train_vals_country)))).T\n",
    "    Xtest_rawpoints = np.vstack((test_vals_country.T,np.ones(len(test_vals_country)))).T\n",
    "    #print(Xtrain_rawpoints)\n",
    "    wd_b,resid,rank,s = np.linalg.lstsq(Xtrain_rawpoints,train_y)\n",
    "    #print(wd_b)\n",
    "\n",
    "    pred_test_rawpoints = np.dot(Xtest_rawpoints,wd_b)\n",
    "    pred_train_rawpoints = np.dot(Xtrain_rawpoints,wd_b)\n",
    "\n",
    "    return MSE(train_y,pred_train_rawpoints),MSE(test_y,pred_test_rawpoints)"
   ]
  },
  {
   "cell_type": "code",
   "execution_count": 358,
   "metadata": {},
   "outputs": [],
   "source": [
    "def draw():\n",
    "    a = max(pred_test_rawpoints)\n",
    "    b = max(0,min(pred_test_rawpoints))\n",
    "    c = max(test_y)\n",
    "    d = max(min(test_y),0)\n",
    "    print(\"Train MSE\\t\",MSE(train_y,pred_train_rawpoints))\n",
    "    print(\"Test MSE\\t\",MSE(test_y,pred_test_rawpoints))\n",
    "    f,ax = plt.subplots(figsize=(8, 6))\n",
    "    ax.scatter(pred_test_rawpoints[1:1000],test_y[1:1000])\n",
    "    ax.plot([0,600],[0,600])\n",
    "    ax.set_xlim([b,a])\n",
    "    ax.set_ylim([d,c])\n",
    "    ax.set_xlabel(\"Predicted Value\")\n",
    "    ax.set_ylabel(\"True Value\")"
   ]
  },
  {
   "cell_type": "markdown",
   "metadata": {},
   "source": [
    "# Country\n"
   ]
  },
  {
   "cell_type": "code",
   "execution_count": 385,
   "metadata": {},
   "outputs": [
    {
     "name": "stderr",
     "output_type": "stream",
     "text": [
      "C:\\YZC\\Conda\\lib\\site-packages\\ipykernel_launcher.py:7: FutureWarning: `rcond` parameter will change to the default of machine precision times ``max(M, N)`` where M and N are the input matrix dimensions.\n",
      "To use the future default and silence this warning we advise to pass `rcond=None`, to keep using the old, explicitly pass `rcond=-1`.\n",
      "  import sys\n"
     ]
    }
   ],
   "source": [
    "train_tmp = []\n",
    "test_tmp = []\n",
    "for i in range(1,40):\n",
    "    train_mse,test_mse = select('country',i)\n",
    "    train_tmp.append(train_mse)\n",
    "    test_tmp.append(test_mse)\n",
    "   \n",
    "    \n",
    "\n",
    "    "
   ]
  },
  {
   "cell_type": "code",
   "execution_count": 386,
   "metadata": {},
   "outputs": [
    {
     "data": {
      "text/plain": [
       "[<matplotlib.lines.Line2D at 0x27f921cec88>]"
      ]
     },
     "execution_count": 386,
     "metadata": {},
     "output_type": "execute_result"
    },
    {
     "data": {
      "image/png": "[encoded data removed]",
      "text/plain": [
       "<Figure size 576x432 with 1 Axes>"
      ]
     },
     "metadata": {
      "needs_background": "light"
     },
     "output_type": "display_data"
    }
   ],
   "source": [
    "f,ax = plt.subplots(figsize=(8, 6))\n",
    "ax.scatter(train_tmp,test_tmp)\n",
    "ax.plot([450,500],[450,500])\n",
    "#not overfitting as features goes up and we try to select best number of features"
   ]
  },
  {
   "cell_type": "code",
   "execution_count": 387,
   "metadata": {},
   "outputs": [
    {
     "data": {
      "text/plain": [
       "[494.63000791252716,\n",
       " 494.00357723971916,\n",
       " 481.2336797574528,\n",
       " 484.4564702601313,\n",
       " 475.21389305767485,\n",
       " 478.8324267463409,\n",
       " 487.3380259722956,\n",
       " 476.5901615577121,\n",
       " 474.2894287897859,\n",
       " 472.7436548339167,\n",
       " 472.7210106551832,\n",
       " 473.61715218887736,\n",
       " 473.60859709156273,\n",
       " 476.15975366714554,\n",
       " 473.14656449571885,\n",
       " 472.3801584430328,\n",
       " 472.8437294481808,\n",
       " 472.4155600772217,\n",
       " 472.4373357153013,\n",
       " 472.49046641942533,\n",
       " 472.037412421001,\n",
       " 472.38990431754115,\n",
       " 474.2366372384809,\n",
       " 472.11973348536145,\n",
       " 472.64671705754296,\n",
       " 471.8071912686646,\n",
       " 472.2238013781603,\n",
       " 471.7438057508529,\n",
       " 471.90964675389796,\n",
       " 472.09245185407985,\n",
       " 471.84827783955024,\n",
       " 472.2709096901796,\n",
       " 472.31385517056015,\n",
       " 472.0998482902262,\n",
       " 471.8393535854629,\n",
       " 471.8339192262984,\n",
       " 471.7559492605648,\n",
       " 472.28240628886846,\n",
       " 471.5987743579663]"
      ]
     },
     "execution_count": 387,
     "metadata": {},
     "output_type": "execute_result"
    },
    {
     "data": {
      "image/png": "[encoded data removed]",
      "text/plain": [
       "<Figure size 576x432 with 1 Axes>"
      ]
     },
     "metadata": {
      "needs_background": "light"
     },
     "output_type": "display_data"
    }
   ],
   "source": [
    "f,ax = plt.subplots(figsize=(8, 6))\n",
    "ax.plot(range(1,40),train_tmp)\n",
    "#We select 10 features for Country and the following is MSE\n",
    "  "
   ]
  },
  {
   "cell_type": "code",
   "execution_count": 388,
   "metadata": {},
   "outputs": [
    {
     "name": "stdout",
     "output_type": "stream",
     "text": [
      "Train MSE\t 472.49046641942533\n",
      "Test MSE\t 467.82698492093\n"
     ]
    },
    {
     "name": "stderr",
     "output_type": "stream",
     "text": [
      "C:\\YZC\\Conda\\lib\\site-packages\\ipykernel_launcher.py:7: FutureWarning: `rcond` parameter will change to the default of machine precision times ``max(M, N)`` where M and N are the input matrix dimensions.\n",
      "To use the future default and silence this warning we advise to pass `rcond=None`, to keep using the old, explicitly pass `rcond=-1`.\n",
      "  import sys\n"
     ]
    }
   ],
   "source": [
    "train_mse,test_mse = select('country',20)\n",
    "print(\"Train MSE\\t\",train_mse)\n",
    "print(\"Test MSE\\t\",test_mse)"
   ]
  },
  {
   "cell_type": "markdown",
   "metadata": {},
   "source": [
    "# Province"
   ]
  },
  {
   "cell_type": "code",
   "execution_count": 389,
   "metadata": {},
   "outputs": [
    {
     "name": "stderr",
     "output_type": "stream",
     "text": [
      "C:\\YZC\\Conda\\lib\\site-packages\\ipykernel_launcher.py:7: FutureWarning: `rcond` parameter will change to the default of machine precision times ``max(M, N)`` where M and N are the input matrix dimensions.\n",
      "To use the future default and silence this warning we advise to pass `rcond=None`, to keep using the old, explicitly pass `rcond=-1`.\n",
      "  import sys\n"
     ]
    }
   ],
   "source": [
    "#Since with many province we use larger numbers of features\n",
    "train_tmp = []\n",
    "test_tmp = []\n",
    "for i in range(1,60):\n",
    "    train_mse,test_mse = select('province',i)\n",
    "    train_tmp.append(train_mse)\n",
    "    test_tmp.append(test_mse)"
   ]
  },
  {
   "cell_type": "code",
   "execution_count": 390,
   "metadata": {},
   "outputs": [
    {
     "data": {
      "text/plain": [
       "[<matplotlib.lines.Line2D at 0x27fa4575b88>]"
      ]
     },
     "execution_count": 390,
     "metadata": {},
     "output_type": "execute_result"
    },
    {
     "data": {
      "image/png": "[encoded data removed]",
      "text/plain": [
       "<Figure size 576x432 with 1 Axes>"
      ]
     },
     "metadata": {
      "needs_background": "light"
     },
     "output_type": "display_data"
    }
   ],
   "source": [
    "f,ax = plt.subplots(figsize=(8, 6))\n",
    "ax.scatter(train_tmp,test_tmp)\n",
    "ax.plot([450,500],[450,500])\n",
    "#not overfitting as features goes up and we try to select best number of features"
   ]
  },
  {
   "cell_type": "code",
   "execution_count": 391,
   "metadata": {},
   "outputs": [
    {
     "data": {
      "text/plain": [
       "[<matplotlib.lines.Line2D at 0x27fbfce8248>]"
      ]
     },
     "execution_count": 391,
     "metadata": {},
     "output_type": "execute_result"
    },
    {
     "data": {
      "image/png": "[encoded data removed]",
      "text/plain": [
       "<Figure size 576x432 with 1 Axes>"
      ]
     },
     "metadata": {
      "needs_background": "light"
     },
     "output_type": "display_data"
    }
   ],
   "source": [
    "f,ax = plt.subplots(figsize=(8, 6))\n",
    "ax.plot(range(1,60),train_tmp)\n",
    "#We select 20 features for Province"
   ]
  },
  {
   "cell_type": "code",
   "execution_count": 392,
   "metadata": {},
   "outputs": [
    {
     "name": "stdout",
     "output_type": "stream",
     "text": [
      "Train MSE\t 464.09133920458\n",
      "Test MSE\t 458.9497584926736\n"
     ]
    },
    {
     "name": "stderr",
     "output_type": "stream",
     "text": [
      "C:\\YZC\\Conda\\lib\\site-packages\\ipykernel_launcher.py:7: FutureWarning: `rcond` parameter will change to the default of machine precision times ``max(M, N)`` where M and N are the input matrix dimensions.\n",
      "To use the future default and silence this warning we advise to pass `rcond=None`, to keep using the old, explicitly pass `rcond=-1`.\n",
      "  import sys\n"
     ]
    }
   ],
   "source": [
    "train_mse,test_mse = select('province',20)\n",
    "print(\"Train MSE\\t\",train_mse)\n",
    "print(\"Test MSE\\t\",test_mse)"
   ]
  },
  {
   "cell_type": "markdown",
   "metadata": {},
   "source": [
    "# Region_1"
   ]
  },
  {
   "cell_type": "code",
   "execution_count": 401,
   "metadata": {},
   "outputs": [
    {
     "name": "stderr",
     "output_type": "stream",
     "text": [
      "C:\\YZC\\Conda\\lib\\site-packages\\ipykernel_launcher.py:7: FutureWarning: `rcond` parameter will change to the default of machine precision times ``max(M, N)`` where M and N are the input matrix dimensions.\n",
      "To use the future default and silence this warning we advise to pass `rcond=None`, to keep using the old, explicitly pass `rcond=-1`.\n",
      "  import sys\n"
     ]
    }
   ],
   "source": [
    "train_tmp = []\n",
    "test_tmp = []\n",
    "for i in range(1,150):\n",
    "    train_mse,test_mse = select('region_1',i)\n",
    "    train_tmp.append(train_mse)\n",
    "    test_tmp.append(test_mse)"
   ]
  },
  {
   "cell_type": "code",
   "execution_count": 403,
   "metadata": {},
   "outputs": [
    {
     "data": {
      "text/plain": [
       "[<matplotlib.lines.Line2D at 0x27fa44e5148>]"
      ]
     },
     "execution_count": 403,
     "metadata": {},
     "output_type": "execute_result"
    },
    {
     "data": {
      "image/png": "[encoded data removed]",
      "text/plain": [
       "<Figure size 576x432 with 1 Axes>"
      ]
     },
     "metadata": {
      "needs_background": "light"
     },
     "output_type": "display_data"
    }
   ],
   "source": [
    "f,ax = plt.subplots(figsize=(8, 6))\n",
    "ax.scatter(train_tmp,test_tmp)\n",
    "ax.plot([400,500],[400,500])"
   ]
  },
  {
   "cell_type": "code",
   "execution_count": 405,
   "metadata": {},
   "outputs": [
    {
     "data": {
      "text/plain": [
       "[<matplotlib.lines.Line2D at 0x27fa45d22c8>]"
      ]
     },
     "execution_count": 405,
     "metadata": {},
     "output_type": "execute_result"
    },
    {
     "data": {
      "image/png": "[encoded data removed]",
      "text/plain": [
       "<Figure size 576x432 with 1 Axes>"
      ]
     },
     "metadata": {
      "needs_background": "light"
     },
     "output_type": "display_data"
    }
   ],
   "source": [
    "f,ax = plt.subplots(figsize=(8, 6))\n",
    "ax.plot(range(1,150),train_tmp)"
   ]
  },
  {
   "cell_type": "code",
   "execution_count": 400,
   "metadata": {},
   "outputs": [
    {
     "name": "stdout",
     "output_type": "stream",
     "text": [
      "Train MSE\t 431.8589571190066\n",
      "Test MSE\t 430.7515417859964\n"
     ]
    },
    {
     "name": "stderr",
     "output_type": "stream",
     "text": [
      "C:\\YZC\\Conda\\lib\\site-packages\\ipykernel_launcher.py:7: FutureWarning: `rcond` parameter will change to the default of machine precision times ``max(M, N)`` where M and N are the input matrix dimensions.\n",
      "To use the future default and silence this warning we advise to pass `rcond=None`, to keep using the old, explicitly pass `rcond=-1`.\n",
      "  import sys\n"
     ]
    }
   ],
   "source": [
    "#We can se mse even decrease furthur and we can choose 60 features\n",
    "train_mse,test_mse = select('region_1',60)\n",
    "print(\"Train MSE\\t\",train_mse)\n",
    "print(\"Test MSE\\t\",test_mse)"
   ]
  },
  {
   "cell_type": "markdown",
   "metadata": {},
   "source": [
    "#  Winery"
   ]
  },
  {
   "cell_type": "code",
   "execution_count": 422,
   "metadata": {},
   "outputs": [
    {
     "name": "stderr",
     "output_type": "stream",
     "text": [
      "C:\\YZC\\Conda\\lib\\site-packages\\ipykernel_launcher.py:7: FutureWarning: `rcond` parameter will change to the default of machine precision times ``max(M, N)`` where M and N are the input matrix dimensions.\n",
      "To use the future default and silence this warning we advise to pass `rcond=None`, to keep using the old, explicitly pass `rcond=-1`.\n",
      "  import sys\n"
     ]
    }
   ],
   "source": [
    "train_tmp = []\n",
    "test_tmp = []\n",
    "for i in range(1,100):\n",
    "    train_mse,test_mse = select('winery',i)\n",
    "    train_tmp.append(train_mse)\n",
    "    test_tmp.append(test_mse)"
   ]
  },
  {
   "cell_type": "code",
   "execution_count": 423,
   "metadata": {},
   "outputs": [
    {
     "data": {
      "text/plain": [
       "[<matplotlib.lines.Line2D at 0x27fa4e69d88>]"
      ]
     },
     "execution_count": 423,
     "metadata": {},
     "output_type": "execute_result"
    },
    {
     "data": {
      "image/png": "[encoded data removed]",
      "text/plain": [
       "<Figure size 576x432 with 1 Axes>"
      ]
     },
     "metadata": {
      "needs_background": "light"
     },
     "output_type": "display_data"
    }
   ],
   "source": [
    "f,ax = plt.subplots(figsize=(8, 6))\n",
    "ax.scatter(train_tmp,test_tmp)\n",
    "ax.plot([480,500],[480,500])\n",
    "\n",
    "#it is overfitting with large features  "
   ]
  },
  {
   "cell_type": "code",
   "execution_count": 425,
   "metadata": {},
   "outputs": [
    {
     "data": {
      "text/plain": [
       "[<matplotlib.lines.Line2D at 0x27fa4f16f08>]"
      ]
     },
     "execution_count": 425,
     "metadata": {},
     "output_type": "execute_result"
    },
    {
     "data": {
      "image/png": "[encoded data removed]",
      "text/plain": [
       "<Figure size 576x432 with 1 Axes>"
      ]
     },
     "metadata": {
      "needs_background": "light"
     },
     "output_type": "display_data"
    }
   ],
   "source": [
    "# we can see from this graph, the mse of training sets is still much larger than the model we used in region_1 and \n",
    "#when numbers of features increases, it cause obvious overfitting. \n",
    "f,ax = plt.subplots(figsize=(8, 6))\n",
    "ax.plot(range(1,100),train_tmp)\n"
   ]
  },
  {
   "cell_type": "code",
   "execution_count": 426,
   "metadata": {},
   "outputs": [
    {
     "name": "stdout",
     "output_type": "stream",
     "text": [
      "Train MSE\t 488.6734596412033\n",
      "Test MSE\t 484.8520973244939\n"
     ]
    },
    {
     "name": "stderr",
     "output_type": "stream",
     "text": [
      "C:\\YZC\\Conda\\lib\\site-packages\\ipykernel_launcher.py:7: FutureWarning: `rcond` parameter will change to the default of machine precision times ``max(M, N)`` where M and N are the input matrix dimensions.\n",
      "To use the future default and silence this warning we advise to pass `rcond=None`, to keep using the old, explicitly pass `rcond=-1`.\n",
      "  import sys\n"
     ]
    }
   ],
   "source": [
    "\n",
    "train_mse,test_mse = select('winery',50)\n",
    "print(\"Train MSE\\t\",train_mse)\n",
    "print(\"Test MSE\\t\",test_mse)"
   ]
  },
  {
   "cell_type": "code",
   "execution_count": 441,
   "metadata": {},
   "outputs": [
    {
     "data": {
      "text/html": [
       "<div>\n",
       "<style scoped>\n",
       "    .dataframe tbody tr th:only-of-type {\n",
       "        vertical-align: middle;\n",
       "    }\n",
       "\n",
       "    .dataframe tbody tr th {\n",
       "        vertical-align: top;\n",
       "    }\n",
       "\n",
       "    .dataframe thead th {\n",
       "        text-align: right;\n",
       "    }\n",
       "</style>\n",
       "<table border=\"1\" class=\"dataframe\">\n",
       "  <thead>\n",
       "    <tr style=\"text-align: right;\">\n",
       "      <th></th>\n",
       "      <th>designation</th>\n",
       "      <th>points</th>\n",
       "      <th>price</th>\n",
       "      <th>region_1</th>\n",
       "      <th>taster_name</th>\n",
       "      <th>variety</th>\n",
       "    </tr>\n",
       "  </thead>\n",
       "  <tbody>\n",
       "    <tr>\n",
       "      <td>1</td>\n",
       "      <td>Avidagos</td>\n",
       "      <td>87</td>\n",
       "      <td>15.0</td>\n",
       "      <td>NaN</td>\n",
       "      <td>Roger Voss</td>\n",
       "      <td>Portuguese Red</td>\n",
       "    </tr>\n",
       "    <tr>\n",
       "      <td>2</td>\n",
       "      <td>NaN</td>\n",
       "      <td>87</td>\n",
       "      <td>14.0</td>\n",
       "      <td>Willamette Valley</td>\n",
       "      <td>Paul Gregutt</td>\n",
       "      <td>Pinot Gris</td>\n",
       "    </tr>\n",
       "    <tr>\n",
       "      <td>3</td>\n",
       "      <td>Reserve Late Harvest</td>\n",
       "      <td>87</td>\n",
       "      <td>13.0</td>\n",
       "      <td>Lake Michigan Shore</td>\n",
       "      <td>Alexander Peartree</td>\n",
       "      <td>Riesling</td>\n",
       "    </tr>\n",
       "    <tr>\n",
       "      <td>4</td>\n",
       "      <td>Vintner's Reserve Wild Child Block</td>\n",
       "      <td>87</td>\n",
       "      <td>65.0</td>\n",
       "      <td>Willamette Valley</td>\n",
       "      <td>Paul Gregutt</td>\n",
       "      <td>Pinot Noir</td>\n",
       "    </tr>\n",
       "    <tr>\n",
       "      <td>5</td>\n",
       "      <td>Ars In Vitro</td>\n",
       "      <td>87</td>\n",
       "      <td>15.0</td>\n",
       "      <td>Navarra</td>\n",
       "      <td>Michael Schachner</td>\n",
       "      <td>Tempranillo-Merlot</td>\n",
       "    </tr>\n",
       "    <tr>\n",
       "      <td>...</td>\n",
       "      <td>...</td>\n",
       "      <td>...</td>\n",
       "      <td>...</td>\n",
       "      <td>...</td>\n",
       "      <td>...</td>\n",
       "      <td>...</td>\n",
       "    </tr>\n",
       "    <tr>\n",
       "      <td>129966</td>\n",
       "      <td>Brauneberger Juffer-Sonnenuhr Spätlese</td>\n",
       "      <td>90</td>\n",
       "      <td>28.0</td>\n",
       "      <td>NaN</td>\n",
       "      <td>Anna Lee C. Iijima</td>\n",
       "      <td>Riesling</td>\n",
       "    </tr>\n",
       "    <tr>\n",
       "      <td>129967</td>\n",
       "      <td>NaN</td>\n",
       "      <td>90</td>\n",
       "      <td>75.0</td>\n",
       "      <td>Oregon</td>\n",
       "      <td>Paul Gregutt</td>\n",
       "      <td>Pinot Noir</td>\n",
       "    </tr>\n",
       "    <tr>\n",
       "      <td>129968</td>\n",
       "      <td>Kritt</td>\n",
       "      <td>90</td>\n",
       "      <td>30.0</td>\n",
       "      <td>Alsace</td>\n",
       "      <td>Roger Voss</td>\n",
       "      <td>Gewürztraminer</td>\n",
       "    </tr>\n",
       "    <tr>\n",
       "      <td>129969</td>\n",
       "      <td>NaN</td>\n",
       "      <td>90</td>\n",
       "      <td>32.0</td>\n",
       "      <td>Alsace</td>\n",
       "      <td>Roger Voss</td>\n",
       "      <td>Pinot Gris</td>\n",
       "    </tr>\n",
       "    <tr>\n",
       "      <td>129970</td>\n",
       "      <td>Lieu-dit Harth Cuvée Caroline</td>\n",
       "      <td>90</td>\n",
       "      <td>21.0</td>\n",
       "      <td>Alsace</td>\n",
       "      <td>Roger Voss</td>\n",
       "      <td>Gewürztraminer</td>\n",
       "    </tr>\n",
       "  </tbody>\n",
       "</table>\n",
       "<p>119505 rows × 6 columns</p>\n",
       "</div>"
      ],
      "text/plain": [
       "                                   designation  points  price  \\\n",
       "1                                     Avidagos      87   15.0   \n",
       "2                                          NaN      87   14.0   \n",
       "3                         Reserve Late Harvest      87   13.0   \n",
       "4           Vintner's Reserve Wild Child Block      87   65.0   \n",
       "5                                 Ars In Vitro      87   15.0   \n",
       "...                                        ...     ...    ...   \n",
       "129966  Brauneberger Juffer-Sonnenuhr Spätlese      90   28.0   \n",
       "129967                                     NaN      90   75.0   \n",
       "129968                                   Kritt      90   30.0   \n",
       "129969                                     NaN      90   32.0   \n",
       "129970           Lieu-dit Harth Cuvée Caroline      90   21.0   \n",
       "\n",
       "                   region_1         taster_name             variety  \n",
       "1                       NaN          Roger Voss      Portuguese Red  \n",
       "2         Willamette Valley        Paul Gregutt          Pinot Gris  \n",
       "3       Lake Michigan Shore  Alexander Peartree            Riesling  \n",
       "4         Willamette Valley        Paul Gregutt          Pinot Noir  \n",
       "5                   Navarra   Michael Schachner  Tempranillo-Merlot  \n",
       "...                     ...                 ...                 ...  \n",
       "129966                  NaN  Anna Lee C. Iijima            Riesling  \n",
       "129967               Oregon        Paul Gregutt          Pinot Noir  \n",
       "129968               Alsace          Roger Voss      Gewürztraminer  \n",
       "129969               Alsace          Roger Voss          Pinot Gris  \n",
       "129970               Alsace          Roger Voss      Gewürztraminer  \n",
       "\n",
       "[119505 rows x 6 columns]"
      ]
     },
     "execution_count": 441,
     "metadata": {},
     "output_type": "execute_result"
    }
   ],
   "source": [
    "data_2 = df[['designation','points','price','region_1','taster_name','variety']]\n",
    "data_2 = data_2[data_2['price']<150]\n",
    "data_2"
   ]
  },
  {
   "cell_type": "code",
   "execution_count": 440,
   "metadata": {},
   "outputs": [],
   "source": [
    "export_csv = data_2.to_csv(r'C:\\Users\\Yuanzheng Cao\\Desktop\\Cornell\\Cornell_2019_Fall\\ORIE_4741\\export_dataframe.csv',index = None,header = True)"
   ]
  },
  {
   "cell_type": "code",
   "execution_count": 435,
   "metadata": {},
   "outputs": [
    {
     "data": {
      "text/html": [
       "<div>\n",
       "<style scoped>\n",
       "    .dataframe tbody tr th:only-of-type {\n",
       "        vertical-align: middle;\n",
       "    }\n",
       "\n",
       "    .dataframe tbody tr th {\n",
       "        vertical-align: top;\n",
       "    }\n",
       "\n",
       "    .dataframe thead th {\n",
       "        text-align: right;\n",
       "    }\n",
       "</style>\n",
       "<table border=\"1\" class=\"dataframe\">\n",
       "  <thead>\n",
       "    <tr style=\"text-align: right;\">\n",
       "      <th></th>\n",
       "      <th>designation</th>\n",
       "      <th>points</th>\n",
       "      <th>price</th>\n",
       "      <th>region_1</th>\n",
       "      <th>taster_name</th>\n",
       "      <th>variety</th>\n",
       "    </tr>\n",
       "  </thead>\n",
       "  <tbody>\n",
       "    <tr>\n",
       "      <td>1</td>\n",
       "      <td>Avidagos</td>\n",
       "      <td>87</td>\n",
       "      <td>15.0</td>\n",
       "      <td>NaN</td>\n",
       "      <td>Roger Voss</td>\n",
       "      <td>Portuguese Red</td>\n",
       "    </tr>\n",
       "    <tr>\n",
       "      <td>2</td>\n",
       "      <td>NaN</td>\n",
       "      <td>87</td>\n",
       "      <td>14.0</td>\n",
       "      <td>Willamette Valley</td>\n",
       "      <td>Paul Gregutt</td>\n",
       "      <td>Pinot Gris</td>\n",
       "    </tr>\n",
       "    <tr>\n",
       "      <td>3</td>\n",
       "      <td>Reserve Late Harvest</td>\n",
       "      <td>87</td>\n",
       "      <td>13.0</td>\n",
       "      <td>Lake Michigan Shore</td>\n",
       "      <td>Alexander Peartree</td>\n",
       "      <td>Riesling</td>\n",
       "    </tr>\n",
       "    <tr>\n",
       "      <td>4</td>\n",
       "      <td>Vintner's Reserve Wild Child Block</td>\n",
       "      <td>87</td>\n",
       "      <td>65.0</td>\n",
       "      <td>Willamette Valley</td>\n",
       "      <td>Paul Gregutt</td>\n",
       "      <td>Pinot Noir</td>\n",
       "    </tr>\n",
       "    <tr>\n",
       "      <td>5</td>\n",
       "      <td>Ars In Vitro</td>\n",
       "      <td>87</td>\n",
       "      <td>15.0</td>\n",
       "      <td>Navarra</td>\n",
       "      <td>Michael Schachner</td>\n",
       "      <td>Tempranillo-Merlot</td>\n",
       "    </tr>\n",
       "    <tr>\n",
       "      <td>...</td>\n",
       "      <td>...</td>\n",
       "      <td>...</td>\n",
       "      <td>...</td>\n",
       "      <td>...</td>\n",
       "      <td>...</td>\n",
       "      <td>...</td>\n",
       "    </tr>\n",
       "    <tr>\n",
       "      <td>129966</td>\n",
       "      <td>Brauneberger Juffer-Sonnenuhr Spätlese</td>\n",
       "      <td>90</td>\n",
       "      <td>28.0</td>\n",
       "      <td>NaN</td>\n",
       "      <td>Anna Lee C. Iijima</td>\n",
       "      <td>Riesling</td>\n",
       "    </tr>\n",
       "    <tr>\n",
       "      <td>129967</td>\n",
       "      <td>NaN</td>\n",
       "      <td>90</td>\n",
       "      <td>75.0</td>\n",
       "      <td>Oregon</td>\n",
       "      <td>Paul Gregutt</td>\n",
       "      <td>Pinot Noir</td>\n",
       "    </tr>\n",
       "    <tr>\n",
       "      <td>129968</td>\n",
       "      <td>Kritt</td>\n",
       "      <td>90</td>\n",
       "      <td>30.0</td>\n",
       "      <td>Alsace</td>\n",
       "      <td>Roger Voss</td>\n",
       "      <td>Gewürztraminer</td>\n",
       "    </tr>\n",
       "    <tr>\n",
       "      <td>129969</td>\n",
       "      <td>NaN</td>\n",
       "      <td>90</td>\n",
       "      <td>32.0</td>\n",
       "      <td>Alsace</td>\n",
       "      <td>Roger Voss</td>\n",
       "      <td>Pinot Gris</td>\n",
       "    </tr>\n",
       "    <tr>\n",
       "      <td>129970</td>\n",
       "      <td>Lieu-dit Harth Cuvée Caroline</td>\n",
       "      <td>90</td>\n",
       "      <td>21.0</td>\n",
       "      <td>Alsace</td>\n",
       "      <td>Roger Voss</td>\n",
       "      <td>Gewürztraminer</td>\n",
       "    </tr>\n",
       "  </tbody>\n",
       "</table>\n",
       "<p>120975 rows × 6 columns</p>\n",
       "</div>"
      ],
      "text/plain": [
       "                                   designation  points  price  \\\n",
       "1                                     Avidagos      87   15.0   \n",
       "2                                          NaN      87   14.0   \n",
       "3                         Reserve Late Harvest      87   13.0   \n",
       "4           Vintner's Reserve Wild Child Block      87   65.0   \n",
       "5                                 Ars In Vitro      87   15.0   \n",
       "...                                        ...     ...    ...   \n",
       "129966  Brauneberger Juffer-Sonnenuhr Spätlese      90   28.0   \n",
       "129967                                     NaN      90   75.0   \n",
       "129968                                   Kritt      90   30.0   \n",
       "129969                                     NaN      90   32.0   \n",
       "129970           Lieu-dit Harth Cuvée Caroline      90   21.0   \n",
       "\n",
       "                   region_1         taster_name             variety  \n",
       "1                       NaN          Roger Voss      Portuguese Red  \n",
       "2         Willamette Valley        Paul Gregutt          Pinot Gris  \n",
       "3       Lake Michigan Shore  Alexander Peartree            Riesling  \n",
       "4         Willamette Valley        Paul Gregutt          Pinot Noir  \n",
       "5                   Navarra   Michael Schachner  Tempranillo-Merlot  \n",
       "...                     ...                 ...                 ...  \n",
       "129966                  NaN  Anna Lee C. Iijima            Riesling  \n",
       "129967               Oregon        Paul Gregutt          Pinot Noir  \n",
       "129968               Alsace          Roger Voss      Gewürztraminer  \n",
       "129969               Alsace          Roger Voss          Pinot Gris  \n",
       "129970               Alsace          Roger Voss      Gewürztraminer  \n",
       "\n",
       "[120975 rows x 6 columns]"
      ]
     },
     "execution_count": 435,
     "metadata": {},
     "output_type": "execute_result"
    }
   ],
   "source": [
    "# to predict region_1 by country, province, winery and   "
   ]
  },
  {
   "cell_type": "code",
   "execution_count": 453,
   "metadata": {},
   "outputs": [
    {
     "data": {
      "text/html": [
       "<div>\n",
       "<style scoped>\n",
       "    .dataframe tbody tr th:only-of-type {\n",
       "        vertical-align: middle;\n",
       "    }\n",
       "\n",
       "    .dataframe tbody tr th {\n",
       "        vertical-align: top;\n",
       "    }\n",
       "\n",
       "    .dataframe thead th {\n",
       "        text-align: right;\n",
       "    }\n",
       "</style>\n",
       "<table border=\"1\" class=\"dataframe\">\n",
       "  <thead>\n",
       "    <tr style=\"text-align: right;\">\n",
       "      <th></th>\n",
       "      <th>country</th>\n",
       "      <th>region_1</th>\n",
       "      <th>province</th>\n",
       "      <th>winery</th>\n",
       "    </tr>\n",
       "  </thead>\n",
       "  <tbody>\n",
       "    <tr>\n",
       "      <td>129590</td>\n",
       "      <td>0</td>\n",
       "      <td>0</td>\n",
       "      <td>0</td>\n",
       "      <td>Büyülübağ</td>\n",
       "    </tr>\n",
       "    <tr>\n",
       "      <td>44850</td>\n",
       "      <td>0</td>\n",
       "      <td>0</td>\n",
       "      <td>0</td>\n",
       "      <td>Stone Castle</td>\n",
       "    </tr>\n",
       "    <tr>\n",
       "      <td>129900</td>\n",
       "      <td>0</td>\n",
       "      <td>0</td>\n",
       "      <td>0</td>\n",
       "      <td>Psagot</td>\n",
       "    </tr>\n",
       "    <tr>\n",
       "      <td>97850</td>\n",
       "      <td>0</td>\n",
       "      <td>0</td>\n",
       "      <td>0</td>\n",
       "      <td>Neumeister</td>\n",
       "    </tr>\n",
       "    <tr>\n",
       "      <td>113520</td>\n",
       "      <td>0</td>\n",
       "      <td>0</td>\n",
       "      <td>0</td>\n",
       "      <td>El Capricho</td>\n",
       "    </tr>\n",
       "    <tr>\n",
       "      <td>105167</td>\n",
       "      <td>0</td>\n",
       "      <td>0</td>\n",
       "      <td>0</td>\n",
       "      <td>Neumeister</td>\n",
       "    </tr>\n",
       "    <tr>\n",
       "      <td>16000</td>\n",
       "      <td>0</td>\n",
       "      <td>0</td>\n",
       "      <td>0</td>\n",
       "      <td>Familia Deicas</td>\n",
       "    </tr>\n",
       "    <tr>\n",
       "      <td>120799</td>\n",
       "      <td>0</td>\n",
       "      <td>0</td>\n",
       "      <td>0</td>\n",
       "      <td>Ktima Voyatzi</td>\n",
       "    </tr>\n",
       "    <tr>\n",
       "      <td>118118</td>\n",
       "      <td>0</td>\n",
       "      <td>0</td>\n",
       "      <td>0</td>\n",
       "      <td>Gotsa Family Wines</td>\n",
       "    </tr>\n",
       "    <tr>\n",
       "      <td>27822</td>\n",
       "      <td>0</td>\n",
       "      <td>0</td>\n",
       "      <td>0</td>\n",
       "      <td>Mt. Beautiful</td>\n",
       "    </tr>\n",
       "    <tr>\n",
       "      <td>26486</td>\n",
       "      <td>0</td>\n",
       "      <td>0</td>\n",
       "      <td>0</td>\n",
       "      <td>Teliani Valley</td>\n",
       "    </tr>\n",
       "    <tr>\n",
       "      <td>9750</td>\n",
       "      <td>0</td>\n",
       "      <td>0</td>\n",
       "      <td>0</td>\n",
       "      <td>Ross-idi</td>\n",
       "    </tr>\n",
       "    <tr>\n",
       "      <td>14030</td>\n",
       "      <td>0</td>\n",
       "      <td>0</td>\n",
       "      <td>0</td>\n",
       "      <td>St. Donat</td>\n",
       "    </tr>\n",
       "    <tr>\n",
       "      <td>85603</td>\n",
       "      <td>0</td>\n",
       "      <td>0</td>\n",
       "      <td>0</td>\n",
       "      <td>Logodaj</td>\n",
       "    </tr>\n",
       "    <tr>\n",
       "      <td>100722</td>\n",
       "      <td>0</td>\n",
       "      <td>0</td>\n",
       "      <td>0</td>\n",
       "      <td>Les Frères Dutruy</td>\n",
       "    </tr>\n",
       "    <tr>\n",
       "      <td>49510</td>\n",
       "      <td>0</td>\n",
       "      <td>0</td>\n",
       "      <td>0</td>\n",
       "      <td>Psagot</td>\n",
       "    </tr>\n",
       "    <tr>\n",
       "      <td>81955</td>\n",
       "      <td>0</td>\n",
       "      <td>0</td>\n",
       "      <td>0</td>\n",
       "      <td>Ross-idi</td>\n",
       "    </tr>\n",
       "    <tr>\n",
       "      <td>79827</td>\n",
       "      <td>0</td>\n",
       "      <td>0</td>\n",
       "      <td>0</td>\n",
       "      <td>Orbelus</td>\n",
       "    </tr>\n",
       "    <tr>\n",
       "      <td>44674</td>\n",
       "      <td>0</td>\n",
       "      <td>0</td>\n",
       "      <td>0</td>\n",
       "      <td>Neumeister</td>\n",
       "    </tr>\n",
       "    <tr>\n",
       "      <td>72581</td>\n",
       "      <td>0</td>\n",
       "      <td>0</td>\n",
       "      <td>0</td>\n",
       "      <td>St. Donat</td>\n",
       "    </tr>\n",
       "    <tr>\n",
       "      <td>45247</td>\n",
       "      <td>0</td>\n",
       "      <td>0</td>\n",
       "      <td>0</td>\n",
       "      <td>Neumeister</td>\n",
       "    </tr>\n",
       "    <tr>\n",
       "      <td>49425</td>\n",
       "      <td>0</td>\n",
       "      <td>0</td>\n",
       "      <td>0</td>\n",
       "      <td>Orbelus</td>\n",
       "    </tr>\n",
       "    <tr>\n",
       "      <td>38240</td>\n",
       "      <td>0</td>\n",
       "      <td>0</td>\n",
       "      <td>0</td>\n",
       "      <td>Neumeister</td>\n",
       "    </tr>\n",
       "    <tr>\n",
       "      <td>90151</td>\n",
       "      <td>0</td>\n",
       "      <td>0</td>\n",
       "      <td>0</td>\n",
       "      <td>Somlói Vándor</td>\n",
       "    </tr>\n",
       "    <tr>\n",
       "      <td>49426</td>\n",
       "      <td>0</td>\n",
       "      <td>0</td>\n",
       "      <td>0</td>\n",
       "      <td>Orbelus</td>\n",
       "    </tr>\n",
       "    <tr>\n",
       "      <td>11150</td>\n",
       "      <td>0</td>\n",
       "      <td>0</td>\n",
       "      <td>0</td>\n",
       "      <td>Orbelus</td>\n",
       "    </tr>\n",
       "    <tr>\n",
       "      <td>98094</td>\n",
       "      <td>0</td>\n",
       "      <td>0</td>\n",
       "      <td>0</td>\n",
       "      <td>Orbelus</td>\n",
       "    </tr>\n",
       "    <tr>\n",
       "      <td>60678</td>\n",
       "      <td>0</td>\n",
       "      <td>0</td>\n",
       "      <td>0</td>\n",
       "      <td>Ktima Voyatzi</td>\n",
       "    </tr>\n",
       "    <tr>\n",
       "      <td>9509</td>\n",
       "      <td>0</td>\n",
       "      <td>0</td>\n",
       "      <td>0</td>\n",
       "      <td>Tsililis</td>\n",
       "    </tr>\n",
       "    <tr>\n",
       "      <td>46352</td>\n",
       "      <td>0</td>\n",
       "      <td>0</td>\n",
       "      <td>0</td>\n",
       "      <td>Santa Ema</td>\n",
       "    </tr>\n",
       "    <tr>\n",
       "      <td>26485</td>\n",
       "      <td>0</td>\n",
       "      <td>0</td>\n",
       "      <td>0</td>\n",
       "      <td>Stone Castle</td>\n",
       "    </tr>\n",
       "    <tr>\n",
       "      <td>119787</td>\n",
       "      <td>0</td>\n",
       "      <td>0</td>\n",
       "      <td>0</td>\n",
       "      <td>Amiran Vepkhvadze</td>\n",
       "    </tr>\n",
       "    <tr>\n",
       "      <td>85821</td>\n",
       "      <td>0</td>\n",
       "      <td>0</td>\n",
       "      <td>0</td>\n",
       "      <td>Neumeister</td>\n",
       "    </tr>\n",
       "    <tr>\n",
       "      <td>100570</td>\n",
       "      <td>0</td>\n",
       "      <td>0</td>\n",
       "      <td>0</td>\n",
       "      <td>Tsililis</td>\n",
       "    </tr>\n",
       "    <tr>\n",
       "      <td>79270</td>\n",
       "      <td>0</td>\n",
       "      <td>0</td>\n",
       "      <td>0</td>\n",
       "      <td>Stone Castle</td>\n",
       "    </tr>\n",
       "    <tr>\n",
       "      <td>81957</td>\n",
       "      <td>0</td>\n",
       "      <td>0</td>\n",
       "      <td>0</td>\n",
       "      <td>St. Donat</td>\n",
       "    </tr>\n",
       "    <tr>\n",
       "      <td>45402</td>\n",
       "      <td>0</td>\n",
       "      <td>0</td>\n",
       "      <td>0</td>\n",
       "      <td>Chilcas</td>\n",
       "    </tr>\n",
       "    <tr>\n",
       "      <td>36112</td>\n",
       "      <td>0</td>\n",
       "      <td>0</td>\n",
       "      <td>0</td>\n",
       "      <td>Orbelus</td>\n",
       "    </tr>\n",
       "    <tr>\n",
       "      <td>106170</td>\n",
       "      <td>0</td>\n",
       "      <td>0</td>\n",
       "      <td>0</td>\n",
       "      <td>Mt. Beautiful</td>\n",
       "    </tr>\n",
       "    <tr>\n",
       "      <td>66524</td>\n",
       "      <td>0</td>\n",
       "      <td>0</td>\n",
       "      <td>0</td>\n",
       "      <td>Gotsa Family Wines</td>\n",
       "    </tr>\n",
       "    <tr>\n",
       "      <td>54222</td>\n",
       "      <td>0</td>\n",
       "      <td>0</td>\n",
       "      <td>0</td>\n",
       "      <td>Gotsa Family Wines</td>\n",
       "    </tr>\n",
       "    <tr>\n",
       "      <td>116307</td>\n",
       "      <td>0</td>\n",
       "      <td>0</td>\n",
       "      <td>0</td>\n",
       "      <td>Neumeister</td>\n",
       "    </tr>\n",
       "    <tr>\n",
       "      <td>85602</td>\n",
       "      <td>0</td>\n",
       "      <td>0</td>\n",
       "      <td>0</td>\n",
       "      <td>Lismore</td>\n",
       "    </tr>\n",
       "    <tr>\n",
       "      <td>44851</td>\n",
       "      <td>0</td>\n",
       "      <td>0</td>\n",
       "      <td>0</td>\n",
       "      <td>Stone Castle</td>\n",
       "    </tr>\n",
       "    <tr>\n",
       "      <td>95176</td>\n",
       "      <td>0</td>\n",
       "      <td>0</td>\n",
       "      <td>0</td>\n",
       "      <td>Neumeister</td>\n",
       "    </tr>\n",
       "    <tr>\n",
       "      <td>913</td>\n",
       "      <td>0</td>\n",
       "      <td>0</td>\n",
       "      <td>0</td>\n",
       "      <td>Gotsa Family Wines</td>\n",
       "    </tr>\n",
       "    <tr>\n",
       "      <td>59670</td>\n",
       "      <td>0</td>\n",
       "      <td>0</td>\n",
       "      <td>0</td>\n",
       "      <td>Neumeister</td>\n",
       "    </tr>\n",
       "    <tr>\n",
       "      <td>129408</td>\n",
       "      <td>0</td>\n",
       "      <td>0</td>\n",
       "      <td>0</td>\n",
       "      <td>El Capricho</td>\n",
       "    </tr>\n",
       "    <tr>\n",
       "      <td>18075</td>\n",
       "      <td>0</td>\n",
       "      <td>0</td>\n",
       "      <td>0</td>\n",
       "      <td>Tsililis</td>\n",
       "    </tr>\n",
       "    <tr>\n",
       "      <td>90146</td>\n",
       "      <td>0</td>\n",
       "      <td>0</td>\n",
       "      <td>0</td>\n",
       "      <td>Ross-idi</td>\n",
       "    </tr>\n",
       "    <tr>\n",
       "      <td>105715</td>\n",
       "      <td>0</td>\n",
       "      <td>0</td>\n",
       "      <td>0</td>\n",
       "      <td>Psagot</td>\n",
       "    </tr>\n",
       "    <tr>\n",
       "      <td>120248</td>\n",
       "      <td>0</td>\n",
       "      <td>0</td>\n",
       "      <td>0</td>\n",
       "      <td>Psagot</td>\n",
       "    </tr>\n",
       "    <tr>\n",
       "      <td>129407</td>\n",
       "      <td>0</td>\n",
       "      <td>0</td>\n",
       "      <td>0</td>\n",
       "      <td>El Capricho</td>\n",
       "    </tr>\n",
       "    <tr>\n",
       "      <td>68322</td>\n",
       "      <td>0</td>\n",
       "      <td>0</td>\n",
       "      <td>0</td>\n",
       "      <td>Ross-idi</td>\n",
       "    </tr>\n",
       "    <tr>\n",
       "      <td>38898</td>\n",
       "      <td>0</td>\n",
       "      <td>0</td>\n",
       "      <td>0</td>\n",
       "      <td>Bachelder</td>\n",
       "    </tr>\n",
       "    <tr>\n",
       "      <td>49427</td>\n",
       "      <td>0</td>\n",
       "      <td>0</td>\n",
       "      <td>0</td>\n",
       "      <td>Orbelus</td>\n",
       "    </tr>\n",
       "    <tr>\n",
       "      <td>4243</td>\n",
       "      <td>0</td>\n",
       "      <td>0</td>\n",
       "      <td>0</td>\n",
       "      <td>Kakhetia Traditional Winemaking</td>\n",
       "    </tr>\n",
       "    <tr>\n",
       "      <td>26489</td>\n",
       "      <td>0</td>\n",
       "      <td>0</td>\n",
       "      <td>0</td>\n",
       "      <td>Undurraga</td>\n",
       "    </tr>\n",
       "    <tr>\n",
       "      <td>124176</td>\n",
       "      <td>0</td>\n",
       "      <td>0</td>\n",
       "      <td>0</td>\n",
       "      <td>Les Frères Dutruy</td>\n",
       "    </tr>\n",
       "  </tbody>\n",
       "</table>\n",
       "</div>"
      ],
      "text/plain": [
       "       country region_1 province                           winery\n",
       "129590       0        0        0                        Büyülübağ\n",
       "44850        0        0        0                     Stone Castle\n",
       "129900       0        0        0                           Psagot\n",
       "97850        0        0        0                       Neumeister\n",
       "113520       0        0        0                      El Capricho\n",
       "105167       0        0        0                       Neumeister\n",
       "16000        0        0        0                   Familia Deicas\n",
       "120799       0        0        0                    Ktima Voyatzi\n",
       "118118       0        0        0               Gotsa Family Wines\n",
       "27822        0        0        0                    Mt. Beautiful\n",
       "26486        0        0        0                   Teliani Valley\n",
       "9750         0        0        0                         Ross-idi\n",
       "14030        0        0        0                        St. Donat\n",
       "85603        0        0        0                          Logodaj\n",
       "100722       0        0        0                Les Frères Dutruy\n",
       "49510        0        0        0                           Psagot\n",
       "81955        0        0        0                         Ross-idi\n",
       "79827        0        0        0                          Orbelus\n",
       "44674        0        0        0                       Neumeister\n",
       "72581        0        0        0                        St. Donat\n",
       "45247        0        0        0                       Neumeister\n",
       "49425        0        0        0                          Orbelus\n",
       "38240        0        0        0                       Neumeister\n",
       "90151        0        0        0                    Somlói Vándor\n",
       "49426        0        0        0                          Orbelus\n",
       "11150        0        0        0                          Orbelus\n",
       "98094        0        0        0                          Orbelus\n",
       "60678        0        0        0                    Ktima Voyatzi\n",
       "9509         0        0        0                         Tsililis\n",
       "46352        0        0        0                        Santa Ema\n",
       "26485        0        0        0                     Stone Castle\n",
       "119787       0        0        0                Amiran Vepkhvadze\n",
       "85821        0        0        0                       Neumeister\n",
       "100570       0        0        0                         Tsililis\n",
       "79270        0        0        0                     Stone Castle\n",
       "81957        0        0        0                        St. Donat\n",
       "45402        0        0        0                          Chilcas\n",
       "36112        0        0        0                          Orbelus\n",
       "106170       0        0        0                    Mt. Beautiful\n",
       "66524        0        0        0               Gotsa Family Wines\n",
       "54222        0        0        0               Gotsa Family Wines\n",
       "116307       0        0        0                       Neumeister\n",
       "85602        0        0        0                          Lismore\n",
       "44851        0        0        0                     Stone Castle\n",
       "95176        0        0        0                       Neumeister\n",
       "913          0        0        0               Gotsa Family Wines\n",
       "59670        0        0        0                       Neumeister\n",
       "129408       0        0        0                      El Capricho\n",
       "18075        0        0        0                         Tsililis\n",
       "90146        0        0        0                         Ross-idi\n",
       "105715       0        0        0                           Psagot\n",
       "120248       0        0        0                           Psagot\n",
       "129407       0        0        0                      El Capricho\n",
       "68322        0        0        0                         Ross-idi\n",
       "38898        0        0        0                        Bachelder\n",
       "49427        0        0        0                          Orbelus\n",
       "4243         0        0        0  Kakhetia Traditional Winemaking\n",
       "26489        0        0        0                        Undurraga\n",
       "124176       0        0        0                Les Frères Dutruy"
      ]
     },
     "execution_count": 453,
     "metadata": {},
     "output_type": "execute_result"
    }
   ],
   "source": [
    "data_r = data[['country','region_1','province','winery']]\n",
    "data_r[data_r['country']=='0']"
   ]
  },
  {
   "cell_type": "code",
   "execution_count": 454,
   "metadata": {},
   "outputs": [],
   "source": [
    "export_csv = data_r.to_csv(r'C:\\Users\\Yuanzheng Cao\\Desktop\\Cornell\\Cornell_2019_Fall\\ORIE_4741\\region_1.csv',index = None,header = True)"
   ]
  },
  {
   "cell_type": "code",
   "execution_count": 461,
   "metadata": {},
   "outputs": [
    {
     "data": {
      "text/html": [
       "<div>\n",
       "<style scoped>\n",
       "    .dataframe tbody tr th:only-of-type {\n",
       "        vertical-align: middle;\n",
       "    }\n",
       "\n",
       "    .dataframe tbody tr th {\n",
       "        vertical-align: top;\n",
       "    }\n",
       "\n",
       "    .dataframe thead th {\n",
       "        text-align: right;\n",
       "    }\n",
       "</style>\n",
       "<table border=\"1\" class=\"dataframe\">\n",
       "  <thead>\n",
       "    <tr style=\"text-align: right;\">\n",
       "      <th></th>\n",
       "      <th>country</th>\n",
       "      <th>region_1</th>\n",
       "      <th>province</th>\n",
       "      <th>winery</th>\n",
       "    </tr>\n",
       "  </thead>\n",
       "  <tbody>\n",
       "    <tr>\n",
       "      <td>2450</td>\n",
       "      <td>Italy</td>\n",
       "      <td>Brunello di Montalcino</td>\n",
       "      <td>Tuscany</td>\n",
       "      <td>Ruffino</td>\n",
       "    </tr>\n",
       "    <tr>\n",
       "      <td>128371</td>\n",
       "      <td>US</td>\n",
       "      <td>Southern Oregon</td>\n",
       "      <td>Oregon</td>\n",
       "      <td>DanCin</td>\n",
       "    </tr>\n",
       "    <tr>\n",
       "      <td>105396</td>\n",
       "      <td>US</td>\n",
       "      <td>Monterey</td>\n",
       "      <td>California</td>\n",
       "      <td>DeTierra Vineyards</td>\n",
       "    </tr>\n",
       "    <tr>\n",
       "      <td>844</td>\n",
       "      <td>Italy</td>\n",
       "      <td>Etna</td>\n",
       "      <td>Sicily &amp; Sardinia</td>\n",
       "      <td>Cottanera</td>\n",
       "    </tr>\n",
       "    <tr>\n",
       "      <td>78538</td>\n",
       "      <td>Italy</td>\n",
       "      <td>Langhe</td>\n",
       "      <td>Piedmont</td>\n",
       "      <td>Elvio Cogno</td>\n",
       "    </tr>\n",
       "    <tr>\n",
       "      <td>...</td>\n",
       "      <td>...</td>\n",
       "      <td>...</td>\n",
       "      <td>...</td>\n",
       "      <td>...</td>\n",
       "    </tr>\n",
       "    <tr>\n",
       "      <td>216</td>\n",
       "      <td>Italy</td>\n",
       "      <td>Brunello di Montalcino</td>\n",
       "      <td>Tuscany</td>\n",
       "      <td>Podere Scopetone</td>\n",
       "    </tr>\n",
       "    <tr>\n",
       "      <td>72298</td>\n",
       "      <td>Italy</td>\n",
       "      <td>Rosso di Montalcino</td>\n",
       "      <td>Tuscany</td>\n",
       "      <td>Capanne Ricci</td>\n",
       "    </tr>\n",
       "    <tr>\n",
       "      <td>64438</td>\n",
       "      <td>US</td>\n",
       "      <td>Santa Ynez Valley</td>\n",
       "      <td>California</td>\n",
       "      <td>Archium</td>\n",
       "    </tr>\n",
       "    <tr>\n",
       "      <td>84244</td>\n",
       "      <td>US</td>\n",
       "      <td>Russian River Valley</td>\n",
       "      <td>California</td>\n",
       "      <td>La Crema</td>\n",
       "    </tr>\n",
       "    <tr>\n",
       "      <td>57177</td>\n",
       "      <td>US</td>\n",
       "      <td>California</td>\n",
       "      <td>California</td>\n",
       "      <td>Raymond</td>\n",
       "    </tr>\n",
       "  </tbody>\n",
       "</table>\n",
       "<p>100069 rows × 4 columns</p>\n",
       "</div>"
      ],
      "text/plain": [
       "       country                region_1           province              winery\n",
       "2450     Italy  Brunello di Montalcino            Tuscany             Ruffino\n",
       "128371      US         Southern Oregon             Oregon              DanCin\n",
       "105396      US                Monterey         California  DeTierra Vineyards\n",
       "844      Italy                    Etna  Sicily & Sardinia           Cottanera\n",
       "78538    Italy                  Langhe           Piedmont         Elvio Cogno\n",
       "...        ...                     ...                ...                 ...\n",
       "216      Italy  Brunello di Montalcino            Tuscany    Podere Scopetone\n",
       "72298    Italy     Rosso di Montalcino            Tuscany       Capanne Ricci\n",
       "64438       US       Santa Ynez Valley         California             Archium\n",
       "84244       US    Russian River Valley         California            La Crema\n",
       "57177       US              California         California             Raymond\n",
       "\n",
       "[100069 rows x 4 columns]"
      ]
     },
     "execution_count": 461,
     "metadata": {},
     "output_type": "execute_result"
    }
   ],
   "source": [
    "# Implement multinomial logistic regression to predict region_1 with data_r_new.\n",
    "#https://sweetcode.io/machine-learning-multinomial-logistic-regression/\n",
    "# Due to our model_training datasets does not have missing value, we have to use winery to predict country and\n",
    "#use winery and country predict province and lastly we use all of them to predict region_1\n",
    "data_r_NA = data_r[data_r['region_1'] == '0']\n",
    "data_r_new = data_r[data_r['region_1'] !='0']"
   ]
  },
  {
   "cell_type": "code",
   "execution_count": null,
   "metadata": {},
   "outputs": [],
   "source": [
    "def hash_f(features,n ,data = data['country']):\n",
    "    fh = FeatureHasher(n_features=n, input_type='string')\n",
    "    hashed_features = fh.fit_transform(data)\n",
    "    hashed_features = hashed_features.toarray()\n",
    "    return hashed_features\n",
    "\n",
    "Xtrain_rawpoints = np.vstack((country_hash.T,np.ones(len(country_hash)))).T"
   ]
  },
  {
   "cell_type": "code",
   "execution_count": 496,
   "metadata": {},
   "outputs": [],
   "source": [
    "def m_log(X,Y):\n",
    "    train_x, test_x, train_y, test_y = train_test_split(X,Y , test_size=0.2, random_state=0)\n",
    "    clf = LogisticRegression(solver='lbfgs',multi_class='multinomial')\n",
    "    clf.fit(train_x, train_y)\n",
    "    print(clf.score(test_x, test_y))\n",
    "\n"
   ]
  },
  {
   "cell_type": "code",
   "execution_count": 505,
   "metadata": {},
   "outputs": [],
   "source": [
    "\n"
   ]
  },
  {
   "cell_type": "code",
   "execution_count": 517,
   "metadata": {},
   "outputs": [
    {
     "name": "stdout",
     "output_type": "stream",
     "text": [
      "0.42575197361846706\n"
     ]
    },
    {
     "name": "stderr",
     "output_type": "stream",
     "text": [
      "C:\\YZC\\Conda\\lib\\site-packages\\sklearn\\linear_model\\logistic.py:947: ConvergenceWarning: lbfgs failed to converge. Increase the number of iterations.\n",
      "  \"of iterations.\", ConvergenceWarning)\n"
     ]
    }
   ],
   "source": [
    "# Model to predict country: \n",
    "Y = data_r_new.loc[:,'province'].values\n",
    "\n",
    "hash_1 = hash_f('winery',60, data = data_r_new['winery'])\n",
    "\n",
    "X = np.vstack((hash_1.T,np.ones(len(hash_1)))).T\n",
    "\n",
    "\n",
    "m_log(X,Y)"
   ]
  },
  {
   "cell_type": "code",
   "execution_count": 522,
   "metadata": {},
   "outputs": [
    {
     "name": "stdout",
     "output_type": "stream",
     "text": [
      "0.5243829319476366\n"
     ]
    },
    {
     "name": "stderr",
     "output_type": "stream",
     "text": [
      "C:\\YZC\\Conda\\lib\\site-packages\\sklearn\\linear_model\\logistic.py:947: ConvergenceWarning: lbfgs failed to converge. Increase the number of iterations.\n",
      "  \"of iterations.\", ConvergenceWarning)\n"
     ]
    }
   ],
   "source": [
    "Y = data_r_new.loc[:,'province'].values\n",
    "\n",
    "hash_1 = hash_f('country',60, data = data_r_new['country'])\n",
    "\n",
    "X = np.vstack((hash_1.T,np.ones(len(hash_1)))).T\n",
    "\n",
    "\n",
    "m_log(X,Y)"
   ]
  },
  {
   "cell_type": "code",
   "execution_count": 630,
   "metadata": {},
   "outputs": [],
   "source": [
    "data=data.fillna('0')"
   ]
  },
  {
   "cell_type": "code",
   "execution_count": 812,
   "metadata": {},
   "outputs": [
    {
     "name": "stderr",
     "output_type": "stream",
     "text": [
      "C:\\YZC\\Conda\\lib\\site-packages\\ipykernel_launcher.py:10: UserWarning: Boolean Series key will be reindexed to match DataFrame index.\n",
      "  # Remove the CWD from sys.path while we load stuff.\n"
     ]
    }
   ],
   "source": [
    "# Due to one winery could have severl corresponding country or province and and the same reason \n",
    "# when use country to predict province. The result is pretty bad we decide to randomly choose \n",
    "# Get all regions in different province and if province is not missing, randomly choose region from that province. \n",
    "province = data['province'].unique()\n",
    "\n",
    "dict_c={}\n",
    "\n",
    "\n",
    "for i in province:\n",
    "    tmp = data[df['province'] == i].region_1.unique()\n",
    "  \n",
    "    if np.mean(tmp==['0']) == 1:\n",
    "            \n",
    "        dict_c[i] = [i]\n",
    "        \n",
    "    else:\n",
    "        dict_c[i] = tmp.tolist()\n",
    "\n",
    "\n",
    "\n",
    "    \n",
    "\n",
    "    \n"
   ]
  },
  {
   "cell_type": "code",
   "execution_count": 903,
   "metadata": {},
   "outputs": [],
   "source": [
    "count= 0\n",
    "for i in range(data.shape[0]):\n",
    "    while data.iloc[i,6] == '0':\n",
    "        r = dict_c[data.iloc[i,5]]\n",
    "        t = random.choice(r)\n",
    "        data.iloc[i,6]= t\n",
    "   "
   ]
  },
  {
   "cell_type": "code",
   "execution_count": 860,
   "metadata": {},
   "outputs": [
    {
     "name": "stdout",
     "output_type": "stream",
     "text": [
      "Size of dataset:  119446\n"
     ]
    }
   ],
   "source": [
    "#split data training 80%  and testing 80%\n",
    "data = shuffle(data) \n",
    "train_proportion = 0.8\n",
    "n = len(data)\n",
    "print(\"Size of dataset: \", str(n))\n",
    "n_train = round(train_proportion*n)\n",
    "target = data['price']\n",
    "data = data.drop(['price'],axis=1)\n",
    "\n",
    "# the following variable records the features of examples in the training set\n",
    "train_x = data.iloc[range(0,n_train),:]\n",
    "# the following variable records the features of examples in the test set\n",
    "test_x = data.iloc[range(n_train,n),:]\n",
    "# the following variable records the labels of examples in the training set\n",
    "train_y = target.iloc[range(0,n_train)]\n",
    "# the following variable records the labels of examples in the test set\n",
    "test_y = target.iloc[range(n_train,n)]"
   ]
  },
  {
   "cell_type": "code",
   "execution_count": 861,
   "metadata": {},
   "outputs": [
    {
     "name": "stderr",
     "output_type": "stream",
     "text": [
      "C:\\YZC\\Conda\\lib\\site-packages\\ipykernel_launcher.py:7: FutureWarning: `rcond` parameter will change to the default of machine precision times ``max(M, N)`` where M and N are the input matrix dimensions.\n",
      "To use the future default and silence this warning we advise to pass `rcond=None`, to keep using the old, explicitly pass `rcond=-1`.\n",
      "  import sys\n"
     ]
    },
    {
     "name": "stdout",
     "output_type": "stream",
     "text": [
      "Train MSE\t 443.2369425450432\n",
      "Test MSE\t 436.7367125166041\n"
     ]
    }
   ],
   "source": [
    "train_mse,test_mse = select('region_1',60)\n",
    "print(\"Train MSE\\t\",train_mse)\n",
    "print(\"Test MSE\\t\",test_mse)\n",
    "\n",
    "#Even we imputed some missing value, however, we do not get mroe information from this imputing by province\n",
    "# since mse is almost same and means information are redudant. However, when people do not know the region_1, we can use province\n",
    "# as indicator to give some information under this model and sacrificing the acurrancy if people have region_1 information"
   ]
  },
  {
   "cell_type": "code",
   "execution_count": 946,
   "metadata": {},
   "outputs": [],
   "source": [
    "data_update = data[['price','designation','points','region_1','taster_name','variety','winery']]"
   ]
  },
  {
   "cell_type": "code",
   "execution_count": 947,
   "metadata": {
    "scrolled": false
   },
   "outputs": [
    {
     "data": {
      "text/html": [
       "<div>\n",
       "<style scoped>\n",
       "    .dataframe tbody tr th:only-of-type {\n",
       "        vertical-align: middle;\n",
       "    }\n",
       "\n",
       "    .dataframe tbody tr th {\n",
       "        vertical-align: top;\n",
       "    }\n",
       "\n",
       "    .dataframe thead th {\n",
       "        text-align: right;\n",
       "    }\n",
       "</style>\n",
       "<table border=\"1\" class=\"dataframe\">\n",
       "  <thead>\n",
       "    <tr style=\"text-align: right;\">\n",
       "      <th></th>\n",
       "      <th>price</th>\n",
       "      <th>designation</th>\n",
       "      <th>points</th>\n",
       "      <th>region_1</th>\n",
       "      <th>taster_name</th>\n",
       "      <th>variety</th>\n",
       "      <th>winery</th>\n",
       "    </tr>\n",
       "  </thead>\n",
       "  <tbody>\n",
       "    <tr>\n",
       "      <td>1</td>\n",
       "      <td>15.0</td>\n",
       "      <td>Avidagos</td>\n",
       "      <td>87</td>\n",
       "      <td>Douro</td>\n",
       "      <td>Roger Voss</td>\n",
       "      <td>Portuguese Red</td>\n",
       "      <td>Quinta dos Avidagos</td>\n",
       "    </tr>\n",
       "    <tr>\n",
       "      <td>2</td>\n",
       "      <td>14.0</td>\n",
       "      <td>0</td>\n",
       "      <td>87</td>\n",
       "      <td>Willamette Valley</td>\n",
       "      <td>Paul Gregutt</td>\n",
       "      <td>Pinot Gris</td>\n",
       "      <td>Rainstorm</td>\n",
       "    </tr>\n",
       "    <tr>\n",
       "      <td>3</td>\n",
       "      <td>13.0</td>\n",
       "      <td>Reserve Late Harvest</td>\n",
       "      <td>87</td>\n",
       "      <td>Lake Michigan Shore</td>\n",
       "      <td>Alexander Peartree</td>\n",
       "      <td>Riesling</td>\n",
       "      <td>St. Julian</td>\n",
       "    </tr>\n",
       "    <tr>\n",
       "      <td>4</td>\n",
       "      <td>65.0</td>\n",
       "      <td>Vintner's Reserve Wild Child Block</td>\n",
       "      <td>87</td>\n",
       "      <td>Willamette Valley</td>\n",
       "      <td>Paul Gregutt</td>\n",
       "      <td>Pinot Noir</td>\n",
       "      <td>Sweet Cheeks</td>\n",
       "    </tr>\n",
       "    <tr>\n",
       "      <td>5</td>\n",
       "      <td>15.0</td>\n",
       "      <td>Ars In Vitro</td>\n",
       "      <td>87</td>\n",
       "      <td>Navarra</td>\n",
       "      <td>Michael Schachner</td>\n",
       "      <td>Tempranillo-Merlot</td>\n",
       "      <td>Tandem</td>\n",
       "    </tr>\n",
       "    <tr>\n",
       "      <td>...</td>\n",
       "      <td>...</td>\n",
       "      <td>...</td>\n",
       "      <td>...</td>\n",
       "      <td>...</td>\n",
       "      <td>...</td>\n",
       "      <td>...</td>\n",
       "      <td>...</td>\n",
       "    </tr>\n",
       "    <tr>\n",
       "      <td>129966</td>\n",
       "      <td>28.0</td>\n",
       "      <td>Brauneberger Juffer-Sonnenuhr Spätlese</td>\n",
       "      <td>90</td>\n",
       "      <td>Mosel</td>\n",
       "      <td>Anna Lee C. Iijima</td>\n",
       "      <td>Riesling</td>\n",
       "      <td>Dr. H. Thanisch (Erben Müller-Burggraef)</td>\n",
       "    </tr>\n",
       "    <tr>\n",
       "      <td>129967</td>\n",
       "      <td>75.0</td>\n",
       "      <td>0</td>\n",
       "      <td>90</td>\n",
       "      <td>Oregon</td>\n",
       "      <td>Paul Gregutt</td>\n",
       "      <td>Pinot Noir</td>\n",
       "      <td>Citation</td>\n",
       "    </tr>\n",
       "    <tr>\n",
       "      <td>129968</td>\n",
       "      <td>30.0</td>\n",
       "      <td>Kritt</td>\n",
       "      <td>90</td>\n",
       "      <td>Alsace</td>\n",
       "      <td>Roger Voss</td>\n",
       "      <td>Gewürztraminer</td>\n",
       "      <td>Domaine Gresser</td>\n",
       "    </tr>\n",
       "    <tr>\n",
       "      <td>129969</td>\n",
       "      <td>32.0</td>\n",
       "      <td>0</td>\n",
       "      <td>90</td>\n",
       "      <td>Alsace</td>\n",
       "      <td>Roger Voss</td>\n",
       "      <td>Pinot Gris</td>\n",
       "      <td>Domaine Marcel Deiss</td>\n",
       "    </tr>\n",
       "    <tr>\n",
       "      <td>129970</td>\n",
       "      <td>21.0</td>\n",
       "      <td>Lieu-dit Harth Cuvée Caroline</td>\n",
       "      <td>90</td>\n",
       "      <td>Alsace</td>\n",
       "      <td>Roger Voss</td>\n",
       "      <td>Gewürztraminer</td>\n",
       "      <td>Domaine Schoffit</td>\n",
       "    </tr>\n",
       "  </tbody>\n",
       "</table>\n",
       "<p>119446 rows × 7 columns</p>\n",
       "</div>"
      ],
      "text/plain": [
       "        price                             designation  points  \\\n",
       "1        15.0                                Avidagos      87   \n",
       "2        14.0                                       0      87   \n",
       "3        13.0                    Reserve Late Harvest      87   \n",
       "4        65.0      Vintner's Reserve Wild Child Block      87   \n",
       "5        15.0                            Ars In Vitro      87   \n",
       "...       ...                                     ...     ...   \n",
       "129966   28.0  Brauneberger Juffer-Sonnenuhr Spätlese      90   \n",
       "129967   75.0                                       0      90   \n",
       "129968   30.0                                   Kritt      90   \n",
       "129969   32.0                                       0      90   \n",
       "129970   21.0           Lieu-dit Harth Cuvée Caroline      90   \n",
       "\n",
       "                   region_1         taster_name             variety  \\\n",
       "1                     Douro          Roger Voss      Portuguese Red   \n",
       "2         Willamette Valley        Paul Gregutt          Pinot Gris   \n",
       "3       Lake Michigan Shore  Alexander Peartree            Riesling   \n",
       "4         Willamette Valley        Paul Gregutt          Pinot Noir   \n",
       "5                   Navarra   Michael Schachner  Tempranillo-Merlot   \n",
       "...                     ...                 ...                 ...   \n",
       "129966                Mosel  Anna Lee C. Iijima            Riesling   \n",
       "129967               Oregon        Paul Gregutt          Pinot Noir   \n",
       "129968               Alsace          Roger Voss      Gewürztraminer   \n",
       "129969               Alsace          Roger Voss          Pinot Gris   \n",
       "129970               Alsace          Roger Voss      Gewürztraminer   \n",
       "\n",
       "                                          winery  \n",
       "1                            Quinta dos Avidagos  \n",
       "2                                      Rainstorm  \n",
       "3                                     St. Julian  \n",
       "4                                   Sweet Cheeks  \n",
       "5                                         Tandem  \n",
       "...                                          ...  \n",
       "129966  Dr. H. Thanisch (Erben Müller-Burggraef)  \n",
       "129967                                  Citation  \n",
       "129968                           Domaine Gresser  \n",
       "129969                      Domaine Marcel Deiss  \n",
       "129970                          Domaine Schoffit  \n",
       "\n",
       "[119446 rows x 7 columns]"
      ]
     },
     "execution_count": 947,
     "metadata": {},
     "output_type": "execute_result"
    }
   ],
   "source": [
    "data_update"
   ]
  },
  {
   "cell_type": "code",
   "execution_count": 948,
   "metadata": {},
   "outputs": [],
   "source": [
    "# Using catboost to do furthur feature selection. https://github.com/catboost/catboost\n",
    "X = data_update.drop(columns = ['price'])\n",
    "y = data_update['price']\n",
    "categorical_features_indices =[0,1,2,3,4,5]\n",
    "\n",
    "X_train, X_test, y_train, y_test = train_test_split(X, y, test_size=0.2, random_state=42)\n",
    "\n",
    "X_train, X_valid, y_train, y_valid = train_test_split(X_train, y_train, test_size=0.2, random_state=52)\n",
    "                                                    \n"
   ]
  },
  {
   "cell_type": "code",
   "execution_count": 949,
   "metadata": {},
   "outputs": [],
   "source": [
    "def perform_model(X_train, y_train,X_valid, y_valid,X_test, y_test):\n",
    "    model = CatBoostRegressor(\n",
    "        random_seed = 400,\n",
    "        loss_function = 'RMSE',\n",
    "        iterations=400,\n",
    "    )\n",
    "    \n",
    "    model.fit(\n",
    "        X_train, y_train,\n",
    "        cat_features = categorical_features_indices,\n",
    "        eval_set=(X_valid, y_valid),\n",
    "        verbose=False\n",
    "    )\n",
    "    \n",
    "    print(\"MSE on training data: \"+ model.score(X_train, y_train).astype(str))\n",
    "    print(\"MSE on test data: \"+ model.score(X_test, y_test).astype(str))\n",
    "    \n",
    "    return model"
   ]
  },
  {
   "cell_type": "code",
   "execution_count": 950,
   "metadata": {},
   "outputs": [
    {
     "name": "stdout",
     "output_type": "stream",
     "text": [
      "MSE on training data: 0.7006604489417416\n",
      "MSE on test data: 0.658947320980776\n"
     ]
    }
   ],
   "source": [
    "model=perform_model(X_train, y_train,X_valid, y_valid,X_test, y_test)"
   ]
  },
  {
   "cell_type": "code",
   "execution_count": 951,
   "metadata": {},
   "outputs": [],
   "source": [
    "feature_score = pd.DataFrame(list(zip(X.dtypes.index, model.get_feature_importance(Pool(X, label=y, cat_features=categorical_features_indices)))),\n",
    "                columns=['Feature','Score'])\n",
    "\n",
    "feature_score = feature_score.sort_values(by='Score', ascending=False, inplace=False, kind='quicksort', na_position='last')"
   ]
  },
  {
   "cell_type": "code",
   "execution_count": 952,
   "metadata": {},
   "outputs": [
    {
     "data": {
      "image/png": "[encoded data removed]",
      "text/plain": [
       "<Figure size 864x504 with 1 Axes>"
      ]
     },
     "metadata": {
      "needs_background": "light"
     },
     "output_type": "display_data"
    }
   ],
   "source": [
    "plt.rcParams[\"figure.figsize\"] = (12,7)\n",
    "ax = feature_score.plot('Feature', 'Score', kind='bar', color='c')\n",
    "ax.set_title(\"Catboost Feature Importance Ranking\", fontsize = 14)\n",
    "ax.set_xlabel('')\n",
    "\n",
    "rects = ax.patches\n",
    "\n",
    "labels = feature_score['Score'].round(2)\n",
    "\n",
    "for rect, label in zip(rects, labels):\n",
    "    height = rect.get_height()\n",
    "    ax.text(rect.get_x() + rect.get_width()/2, height + 0.35, label, ha='center', va='bottom')\n",
    "\n",
    "plt.show()"
   ]
  },
  {
   "cell_type": "code",
   "execution_count": null,
   "metadata": {},
   "outputs": [],
   "source": [
    "# As we can see for the graph. all features are important right now. \n",
    "# If we have to drop features, I will try to drop taster_name and designationa and see the results of fitting model"
   ]
  },
  {
   "cell_type": "code",
   "execution_count": 953,
   "metadata": {},
   "outputs": [],
   "source": [
    "X = data_update.drop(columns = ['price'])\n",
    "y = data_update['price']\n",
    "categorical_features_indices =[0,1,2,3,4]\n",
    "\n",
    "X_train, X_test, y_train, y_test = train_test_split(X, y, test_size=0.2, random_state=42)\n",
    "\n",
    "X_train, X_valid, y_train, y_valid = train_test_split(X_train, y_train, test_size=0.2, random_state=52)"
   ]
  },
  {
   "cell_type": "code",
   "execution_count": 956,
   "metadata": {},
   "outputs": [],
   "source": [
    "# drop taster_name\n",
    "X = data_update.drop(columns=['price','taster_name'])\n",
    "y = data_update['price']\n",
    "categorical_features_indices =[0,1,2,3,4]\n",
    "X_train, X_test, y_train, y_test = train_test_split(X, y, test_size=0.2, random_state=42)\n",
    "X_train, X_valid, y_train, y_valid = train_test_split(X_train, y_train, test_size=0.2, random_state=52)\n",
    "\n"
   ]
  },
  {
   "cell_type": "code",
   "execution_count": 957,
   "metadata": {},
   "outputs": [
    {
     "name": "stdout",
     "output_type": "stream",
     "text": [
      "MSE on training data: 0.6911295202149659\n",
      "MSE on test data: 0.6481562706467707\n"
     ]
    }
   ],
   "source": [
    "model=perform_model(X_train, y_train,X_valid, y_valid,X_test, y_test)\n",
    "# model even improved"
   ]
  },
  {
   "cell_type": "code",
   "execution_count": 959,
   "metadata": {},
   "outputs": [
    {
     "name": "stdout",
     "output_type": "stream",
     "text": [
      "MSE on training data: 0.6600513406470273\n",
      "MSE on test data: 0.6306989290129559\n"
     ]
    }
   ],
   "source": [
    "#drop designation \n",
    "X = data_update.drop(columns=['price','designation'])\n",
    "y = data_update['price']\n",
    "categorical_features_indices =[0,1,2,3,4]\n",
    "X_train, X_test, y_train, y_test = train_test_split(X, y, test_size=0.2, random_state=42)\n",
    "X_train, X_valid, y_train, y_valid = train_test_split(X_train, y_train, test_size=0.2, random_state=52)\n",
    "model=perform_model(X_train, y_train,X_valid, y_valid,X_test, y_test)"
   ]
  },
  {
   "cell_type": "code",
   "execution_count": 960,
   "metadata": {},
   "outputs": [
    {
     "name": "stdout",
     "output_type": "stream",
     "text": [
      "MSE on training data: 0.6736036718685647\n",
      "MSE on test data: 0.6294918405928471\n"
     ]
    }
   ],
   "source": [
    "# drop winery\n",
    "X = data_update.drop(columns=['price','winery'])\n",
    "y = data_update['price']\n",
    "categorical_features_indices =[0,1,2,3,4]\n",
    "X_train, X_test, y_train, y_test = train_test_split(X, y, test_size=0.2, random_state=42)\n",
    "X_train, X_valid, y_train, y_valid = train_test_split(X_train, y_train, test_size=0.2, random_state=52)\n",
    "model=perform_model(X_train, y_train,X_valid, y_valid,X_test, y_test)"
   ]
  },
  {
   "cell_type": "markdown",
   "metadata": {},
   "source": [
    "From the statsitics, we can that it seems have no issue to drop any one of them. I will consider to drop both designation and winery for two reason: 1) both of them have tons of categories and it is hard to use one hot encoding, some information in winery have alreadybeen contained in region_2 as showing in the correlation analysis.2) designation have too many missing values and it could potential cause overfitting."
   ]
  },
  {
   "cell_type": "code",
   "execution_count": 972,
   "metadata": {},
   "outputs": [
    {
     "name": "stdout",
     "output_type": "stream",
     "text": [
      "MSE on training data: 0.6031895969412986\n",
      "MSE on test data: 0.5872858093907181\n"
     ]
    }
   ],
   "source": [
    "# Performance after drop winery and designation: it not only reduce the features, but also reduce the mse. \n",
    "X = data_update.drop(columns=['price','winery','designation'])\n",
    "y = data_update['price']\n",
    "categorical_features_indices =[0,1,2,3]\n",
    "X_train, X_test, y_train, y_test = train_test_split(X, y, test_size=0.2, random_state=42)\n",
    "X_train, X_valid, y_train, y_valid = train_test_split(X_train, y_train, test_size=0.2, random_state=52)\n",
    "model=perform_model(X_train, y_train,X_valid, y_valid,X_test, y_test)"
   ]
  },
  {
   "cell_type": "code",
   "execution_count": null,
   "metadata": {},
   "outputs": [],
   "source": []
  },
  {
   "cell_type": "code",
   "execution_count": null,
   "metadata": {},
   "outputs": [],
   "source": []
  },
  {
   "cell_type": "code",
   "execution_count": null,
   "metadata": {},
   "outputs": [],
   "source": []
  },
  {
   "cell_type": "code",
   "execution_count": null,
   "metadata": {},
   "outputs": [],
   "source": []
  },
  {
   "cell_type": "code",
   "execution_count": 965,
   "metadata": {},
   "outputs": [],
   "source": [
    "\n",
    "taster = data_update['taster_name'].unique()\n",
    "t_times = []\n",
    "for i in taster:\n",
    "    time = sum(data_update['taster_name'] == i)\n",
    "    t_times.append(time)\n",
    "\n",
    "y_pos = np.arange(len(taster))\n",
    "\n",
    "\n"
   ]
  },
  {
   "cell_type": "code",
   "execution_count": 966,
   "metadata": {},
   "outputs": [
    {
     "data": {
      "image/png": "[encoded data removed]",
      "text/plain": [
       "<Figure size 2160x432 with 1 Axes>"
      ]
     },
     "metadata": {
      "needs_background": "light"
     },
     "output_type": "display_data"
    }
   ],
   "source": [
    "f,ax = plt.subplots(figsize=(30, 6))\n",
    "ax.bar(y_pos, t_times, align='center')\n",
    "plt.xticks(y_pos, taster)\n",
    "\n",
    "plt.show()"
   ]
  },
  {
   "cell_type": "code",
   "execution_count": 969,
   "metadata": {},
   "outputs": [],
   "source": [
    "w = data_update['winery'].unique()\n",
    "t_times = []\n",
    "for i in w:\n",
    "    time = sum(data_update['winery'] == i)\n",
    "    t_times.append(time)\n",
    "\n",
    "y_pos = np.arange(len(w))\n",
    "\n"
   ]
  },
  {
   "cell_type": "code",
   "execution_count": 970,
   "metadata": {},
   "outputs": [
    {
     "data": {
      "image/png": "[encoded data removed]",
      "text/plain": [
       "<Figure size 2160x432 with 1 Axes>"
      ]
     },
     "metadata": {
      "needs_background": "light"
     },
     "output_type": "display_data"
    }
   ],
   "source": [
    "f,ax = plt.subplots(figsize=(30, 6))\n",
    "ax.bar(y_pos, t_times, align='center')\n",
    "plt.xticks(y_pos, w)\n",
    "\n",
    "plt.show()"
   ]
  },
  {
   "cell_type": "code",
   "execution_count": 86,
   "metadata": {},
   "outputs": [
    {
     "data": {
      "image/png": "[encoded data removed]",
      "text/plain": [
       "<Figure size 3600x1080 with 1 Axes>"
      ]
     },
     "metadata": {
      "needs_background": "light"
     },
     "output_type": "display_data"
    }
   ],
   "source": [
    "fig, ax = plt.subplots(figsize = (50,15))\n",
    "ax.hist(df_c['country'],bins = 75)\n",
    "ax.set_title('country of Wine')\n",
    "plt.show()"
   ]
  },
  {
   "cell_type": "code",
   "execution_count": null,
   "metadata": {},
   "outputs": [],
   "source": [
    "fig, ax = plt.subplots(figsize = (8,6))\n",
    "ax.hist(df['price'],range=[0, 150])\n",
    "ax.set_title('Price of Wine')\n",
    "plt.show()"
   ]
  },
  {
   "cell_type": "code",
   "execution_count": 42,
   "metadata": {},
   "outputs": [],
   "source": [
    "df_points = df['points']\n",
    "df_price = df['price']"
   ]
  },
  {
   "cell_type": "code",
   "execution_count": 43,
   "metadata": {},
   "outputs": [
    {
     "data": {
      "text/plain": [
       "(0, 200)"
      ]
     },
     "execution_count": 43,
     "metadata": {},
     "output_type": "execute_result"
    },
    {
     "data": {
      "image/png": "[encoded data removed]",
      "text/plain": [
       "<Figure size 576x432 with 1 Axes>"
      ]
     },
     "metadata": {
      "needs_background": "light"
     },
     "output_type": "display_data"
    }
   ],
   "source": [
    "f,ax = plt.subplots(figsize=(8, 6))\n",
    "ax.scatter(df_points,df_price)\n",
    "ax.plot([0,600],[0,600])\n",
    "ax.set_xlim([80,100])\n",
    "ax.set_ylim([0,200])"
   ]
  },
  {
   "cell_type": "code",
   "execution_count": 44,
   "metadata": {},
   "outputs": [
    {
     "name": "stdout",
     "output_type": "stream",
     "text": [
      "Size of dataset:  119505\n"
     ]
    }
   ],
   "source": [
    "#split data training 80%  and testing 80%\n",
    "df = shuffle(df) \n",
    "train_proportion = 0.8\n",
    "n = len(df)\n",
    "print(\"Size of dataset: \", str(n))\n",
    "n_train = round(train_proportion*n)\n",
    "target = df['price']\n",
    "data = df.drop(['price'],axis=1)"
   ]
  },
  {
   "cell_type": "code",
   "execution_count": 45,
   "metadata": {},
   "outputs": [],
   "source": [
    "# the following variable records the features of examples in the training set\n",
    "train_x = data.iloc[range(0,n_train),:]\n",
    "# the following variable records the features of examples in the test set\n",
    "test_x = data.iloc[range(n_train,n),:]\n",
    "# the following variable records the labels of examples in the training set\n",
    "train_y = target.iloc[range(0,n_train)]\n",
    "# the following variable records the labels of examples in the test set\n",
    "test_y = target.iloc[range(n_train,n)]\n",
    "\n"
   ]
  },
  {
   "cell_type": "code",
   "execution_count": 46,
   "metadata": {},
   "outputs": [],
   "source": [
    "# raw_score\n",
    "train_vals_raw = train_x.loc[:,'points']\n",
    "test_vals_raw = test_x.loc[:,'points']\n",
    "Xtrain_rawpoints = np.vstack((train_vals_raw.T,np.ones(len(train_vals_raw)))).T\n",
    "Xtest_rawpoints = np.vstack((test_vals_raw.T,np.ones(len(test_vals_raw)))).T"
   ]
  },
  {
   "cell_type": "code",
   "execution_count": 47,
   "metadata": {},
   "outputs": [],
   "source": [
    "def MSE(y,pred):\n",
    "  a = ((y-pred)**2).sum()/len(y)\n",
    "  return a "
   ]
  },
  {
   "cell_type": "code",
   "execution_count": 48,
   "metadata": {},
   "outputs": [
    {
     "name": "stdout",
     "output_type": "stream",
     "text": [
      "[   4.04824915 -325.17692752]\n"
     ]
    },
    {
     "name": "stderr",
     "output_type": "stream",
     "text": [
      "C:\\Users\\YCZ\\Anaconda3\\lib\\site-packages\\ipykernel_launcher.py:1: FutureWarning: `rcond` parameter will change to the default of machine precision times ``max(M, N)`` where M and N are the input matrix dimensions.\n",
      "To use the future default and silence this warning we advise to pass `rcond=None`, to keep using the old, explicitly pass `rcond=-1`.\n",
      "  \"\"\"Entry point for launching an IPython kernel.\n"
     ]
    }
   ],
   "source": [
    "wd_b,resid,rank,s = np.linalg.lstsq(Xtrain_rawpoints,train_y)\n",
    "print(wd_b)"
   ]
  },
  {
   "cell_type": "code",
   "execution_count": 49,
   "metadata": {},
   "outputs": [
    {
     "name": "stdout",
     "output_type": "stream",
     "text": [
      "Train MSE\t 348.01183828799867\n",
      "Test MSE\t 344.5547293320421\n"
     ]
    },
    {
     "data": {
      "text/plain": [
       "Text(0, 0.5, 'True Value')"
      ]
     },
     "execution_count": 49,
     "metadata": {},
     "output_type": "execute_result"
    },
    {
     "data": {
      "image/png": "[encoded data removed]",
      "text/plain": [
       "<Figure size 576x432 with 1 Axes>"
      ]
     },
     "metadata": {
      "needs_background": "light"
     },
     "output_type": "display_data"
    }
   ],
   "source": [
    "pred_test_rawpoints = np.dot(Xtest_rawpoints,wd_b)\n",
    "pred_train_rawpoints = np.dot(Xtrain_rawpoints,wd_b)\n",
    "a = max(pred_test_rawpoints)\n",
    "b = max(0,min(pred_test_rawpoints))\n",
    "c = max(test_y)\n",
    "d = max(min(test_y),0)\n",
    "print(\"Train MSE\\t\",MSE(train_y,pred_train_rawpoints))\n",
    "print(\"Test MSE\\t\",MSE(test_y,pred_test_rawpoints))\n",
    "f,ax = plt.subplots(figsize=(8, 6))\n",
    "ax.scatter(pred_test_rawpoints[1:1000],test_y[1:1000])\n",
    "ax.plot([0,600],[0,600])\n",
    "ax.set_xlim([b,a])\n",
    "ax.set_ylim([d,c])\n",
    "ax.set_xlabel(\"Predicted Value\")\n",
    "ax.set_ylabel(\"True Value\")"
   ]
  },
  {
   "cell_type": "code",
   "execution_count": 50,
   "metadata": {},
   "outputs": [
    {
     "name": "stdout",
     "output_type": "stream",
     "text": [
      "[   69.71464491 -5796.34581872 19845.05893464]\n",
      "Train MSE\t 329.4753492985525\n",
      "Test MSE\t 327.57888579323657\n"
     ]
    },
    {
     "name": "stderr",
     "output_type": "stream",
     "text": [
      "C:\\Users\\YCZ\\Anaconda3\\lib\\site-packages\\ipykernel_launcher.py:5: FutureWarning: `rcond` parameter will change to the default of machine precision times ``max(M, N)`` where M and N are the input matrix dimensions.\n",
      "To use the future default and silence this warning we advise to pass `rcond=None`, to keep using the old, explicitly pass `rcond=-1`.\n",
      "  \"\"\"\n"
     ]
    },
    {
     "data": {
      "text/plain": [
       "Text(0, 0.5, 'True Value')"
      ]
     },
     "execution_count": 50,
     "metadata": {},
     "output_type": "execute_result"
    },
    {
     "data": {
      "image/png": "[encoded data removed]",
      "text/plain": [
       "<Figure size 576x432 with 1 Axes>"
      ]
     },
     "metadata": {
      "needs_background": "light"
     },
     "output_type": "display_data"
    }
   ],
   "source": [
    "train_vals_t = np.log(train_vals_raw)\n",
    "test_vals_t = np.log(test_vals_raw)\n",
    "Xtrain_tpoints = np.vstack((train_vals_raw.T, train_vals_t.T,np.ones(len(train_vals_t)))).T\n",
    "Xtest_tpoints = np.vstack((test_vals_raw, test_vals_t.T,np.ones(len(test_vals_t)))).T\n",
    "wd_b,resid,rank,s = np.linalg.lstsq(Xtrain_tpoints,train_y)\n",
    "print(wd_b)\n",
    "pred_test_tpoints = np.dot(Xtest_tpoints,wd_b)\n",
    "pred_train_tpoints = np.dot(Xtrain_tpoints,wd_b)\n",
    "a = max(pred_test_tpoints)\n",
    "b = max(0,min(pred_test_tpoints))\n",
    "c = max(test_y)\n",
    "d = max(min(test_y),0)\n",
    "print(\"Train MSE\\t\",MSE(train_y,pred_train_tpoints))\n",
    "print(\"Test MSE\\t\",MSE(test_y,pred_test_tpoints))\n",
    "f,ax = plt.subplots(figsize=(8, 6))\n",
    "ax.scatter(pred_test_tpoints[1:1000],test_y[1:1000])\n",
    "ax.plot([0,600],[0,600])\n",
    "ax.set_xlim([b,a])\n",
    "ax.set_ylim([d,c])\n",
    "ax.set_xlabel(\"Predicted Value\")\n",
    "ax.set_ylabel(\"True Value\")"
   ]
  },
  {
   "cell_type": "code",
   "execution_count": 51,
   "metadata": {},
   "outputs": [
    {
     "name": "stdout",
     "output_type": "stream",
     "text": [
      "[-6.20693745e+01  3.74139160e-01  2.59252973e+03]\n"
     ]
    },
    {
     "name": "stderr",
     "output_type": "stream",
     "text": [
      "C:\\Users\\YCZ\\Anaconda3\\lib\\site-packages\\ipykernel_launcher.py:3: FutureWarning: `rcond` parameter will change to the default of machine precision times ``max(M, N)`` where M and N are the input matrix dimensions.\n",
      "To use the future default and silence this warning we advise to pass `rcond=None`, to keep using the old, explicitly pass `rcond=-1`.\n",
      "  This is separate from the ipykernel package so we can avoid doing imports until\n"
     ]
    }
   ],
   "source": [
    "Xtrain_tpoints = np.vstack((train_vals_raw.T,(train_vals_raw.T**2),np.ones(len(train_vals_t)))).T\n",
    "Xtest_tpoints = np.vstack((test_vals_raw,(test_vals_raw.T**2),np.ones(len(test_vals_t)))).T\n",
    "wd_b,resid,rank,s = np.linalg.lstsq(Xtrain_tpoints,train_y)\n",
    "print(wd_b)"
   ]
  },
  {
   "cell_type": "code",
   "execution_count": 52,
   "metadata": {},
   "outputs": [
    {
     "name": "stdout",
     "output_type": "stream",
     "text": [
      "Train MSE\t 329.38210245428434\n",
      "Test MSE\t 327.4598108499618\n"
     ]
    },
    {
     "data": {
      "text/plain": [
       "Text(0, 0.5, 'True Value')"
      ]
     },
     "execution_count": 52,
     "metadata": {},
     "output_type": "execute_result"
    },
    {
     "data": {
      "image/png": "[encoded data removed]",
      "text/plain": [
       "<Figure size 576x432 with 1 Axes>"
      ]
     },
     "metadata": {
      "needs_background": "light"
     },
     "output_type": "display_data"
    }
   ],
   "source": [
    "pred_test_tpoints = np.dot(Xtest_tpoints,wd_b)\n",
    "pred_train_tpoints = np.dot(Xtrain_tpoints,wd_b)\n",
    "a = max(pred_test_tpoints)\n",
    "b = max(0,min(pred_test_tpoints))\n",
    "c = max(test_y)\n",
    "d = max(min(test_y),0)\n",
    "print(\"Train MSE\\t\",MSE(train_y,pred_train_tpoints))\n",
    "print(\"Test MSE\\t\",MSE(test_y,pred_test_tpoints))\n",
    "f,ax = plt.subplots(figsize=(8, 6))\n",
    "ax.scatter(pred_test_tpoints[1:1000],test_y[1:1000])\n",
    "ax.plot([0,600],[0,600])\n",
    "ax.set_xlim([b,a])\n",
    "ax.set_ylim([d,c])\n",
    "ax.set_xlabel(\"Predicted Value\")\n",
    "ax.set_ylabel(\"True Value\")"
   ]
  },
  {
   "cell_type": "markdown",
   "metadata": {},
   "source": [
    "Correlation Analysis"
   ]
  },
  {
   "cell_type": "code",
   "execution_count": null,
   "metadata": {},
   "outputs": [],
   "source": []
  }
 ],
 "metadata": {
  "kernelspec": {
   "display_name": "Python 3",
   "language": "python",
   "name": "python3"
  },
  "language_info": {
   "codemirror_mode": {
    "name": "ipython",
    "version": 3
   },
   "file_extension": ".py",
   "mimetype": "text/x-python",
   "name": "python",
   "nbconvert_exporter": "python",
   "pygments_lexer": "ipython3",
   "version": "3.7.4"
  }
 },
 "nbformat": 4,
 "nbformat_minor": 2
}
